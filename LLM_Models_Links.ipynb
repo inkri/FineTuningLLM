{
 "cells": [
  {
   "cell_type": "markdown",
   "id": "63e337ac-fe8a-4096-a1d5-acfee692b1d6",
   "metadata": {},
   "source": [
    "# Llama 3.1 Fine Tune"
   ]
  },
  {
   "cell_type": "code",
   "execution_count": 4,
   "id": "f921ec72-9e9b-40c9-bb17-3f6a36758014",
   "metadata": {},
   "outputs": [],
   "source": [
    "#https://huggingface.co/mervinpraison/Llama-3.1-8B-bnb-4bit-python\n",
    "#https://www.youtube.com/watch?v=V6LDl3Vjq-A\n",
    "#https://mer.vin/2024/07/llama-3-1-fine-tune/\n",
    "#https://mer.vin/2024/07/ollama-tool-call-example/"
   ]
  },
  {
   "cell_type": "code",
   "execution_count": 2,
   "id": "c237bf31-6cc6-4206-b415-f47c830f8e7e",
   "metadata": {},
   "outputs": [],
   "source": []
  },
  {
   "cell_type": "markdown",
   "id": "a7ce3023-afbd-48c1-8124-ffc073b0915a",
   "metadata": {},
   "source": [
    "# Mistral Finetuning on Custom Data"
   ]
  },
  {
   "cell_type": "code",
   "execution_count": 6,
   "id": "63178319-7fd6-4fdd-b3f1-516a50ec7a34",
   "metadata": {},
   "outputs": [],
   "source": [
    "#https://mer.vin/2023/12/mistral-finetuning-ludwig/\n",
    "#https://mer.vin/2024/01/finetuning-open-source-llm-for-beginners/\n",
    "#https://mer.vin/2024/06/mistral-finetune-on-mistral-server/"
   ]
  },
  {
   "cell_type": "code",
   "execution_count": null,
   "id": "a1791126-14bd-4db5-9e70-8125b1f511a3",
   "metadata": {},
   "outputs": [],
   "source": []
  },
  {
   "cell_type": "markdown",
   "id": "aa5f22b7-7d00-44d8-abb4-0238bad25079",
   "metadata": {},
   "source": [
    "# Gemma Fine Tuning"
   ]
  },
  {
   "cell_type": "code",
   "execution_count": 4,
   "id": "e6f96fda-fc8e-49ce-a26a-7eaa830f1cf8",
   "metadata": {},
   "outputs": [],
   "source": [
    "#https://mer.vin/2024/02/gemma-fine-tuning-with-transformers/"
   ]
  },
  {
   "cell_type": "code",
   "execution_count": null,
   "id": "7f74ccd0-eb3a-4c1f-ac00-c8773e7259ee",
   "metadata": {},
   "outputs": [],
   "source": []
  },
  {
   "cell_type": "markdown",
   "id": "b7d6c4dc-6b0d-451a-a1fe-2c6568c170a0",
   "metadata": {},
   "source": [
    "# Multi Modal Large Language Model"
   ]
  },
  {
   "cell_type": "code",
   "execution_count": 5,
   "id": "10320c02-d77c-4ac6-8d0a-bfd131431474",
   "metadata": {},
   "outputs": [],
   "source": [
    "#https://mer.vin/2024/03/fine-tuning-doodles-cards-on-idefics-9b-vision-model/"
   ]
  },
  {
   "cell_type": "code",
   "execution_count": null,
   "id": "4a9bbdaa-0d5e-4179-9758-cac1d2e58d2a",
   "metadata": {},
   "outputs": [],
   "source": []
  }
 ],
 "metadata": {
  "kernelspec": {
   "display_name": "Python 3 (ipykernel)",
   "language": "python",
   "name": "python3"
  },
  "language_info": {
   "codemirror_mode": {
    "name": "ipython",
    "version": 3
   },
   "file_extension": ".py",
   "mimetype": "text/x-python",
   "name": "python",
   "nbconvert_exporter": "python",
   "pygments_lexer": "ipython3",
   "version": "3.11.4"
  }
 },
 "nbformat": 4,
 "nbformat_minor": 5
}
