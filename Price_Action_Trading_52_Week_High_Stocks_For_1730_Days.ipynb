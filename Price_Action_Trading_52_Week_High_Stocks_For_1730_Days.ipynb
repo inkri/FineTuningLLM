{
 "cells": [
  {
   "cell_type": "markdown",
   "id": "d6fc1603",
   "metadata": {},
   "source": [
    "# Last 1 yt Stocks Data"
   ]
  },
  {
   "cell_type": "code",
   "execution_count": 1,
   "id": "d83daf80",
   "metadata": {},
   "outputs": [
    {
     "data": {
      "text/html": [
       "<div>\n",
       "<style scoped>\n",
       "    .dataframe tbody tr th:only-of-type {\n",
       "        vertical-align: middle;\n",
       "    }\n",
       "\n",
       "    .dataframe tbody tr th {\n",
       "        vertical-align: top;\n",
       "    }\n",
       "\n",
       "    .dataframe thead th {\n",
       "        text-align: right;\n",
       "    }\n",
       "</style>\n",
       "<table border=\"1\" class=\"dataframe\">\n",
       "  <thead>\n",
       "    <tr style=\"text-align: right;\">\n",
       "      <th></th>\n",
       "      <th>Date</th>\n",
       "      <th>Ticker</th>\n",
       "      <th>Open</th>\n",
       "      <th>High</th>\n",
       "      <th>Low</th>\n",
       "      <th>Close</th>\n",
       "      <th>Volume</th>\n",
       "      <th>Sector</th>\n",
       "    </tr>\n",
       "  </thead>\n",
       "  <tbody>\n",
       "    <tr>\n",
       "      <th>0</th>\n",
       "      <td>2023-07-26 00:00:00+05:30</td>\n",
       "      <td>360ONE</td>\n",
       "      <td>511.099417</td>\n",
       "      <td>511.099417</td>\n",
       "      <td>497.567458</td>\n",
       "      <td>499.417145</td>\n",
       "      <td>120782</td>\n",
       "      <td>Asset Management</td>\n",
       "    </tr>\n",
       "    <tr>\n",
       "      <th>1</th>\n",
       "      <td>2023-07-27 00:00:00+05:30</td>\n",
       "      <td>360ONE</td>\n",
       "      <td>499.417139</td>\n",
       "      <td>504.917566</td>\n",
       "      <td>493.429981</td>\n",
       "      <td>498.881714</td>\n",
       "      <td>85462</td>\n",
       "      <td>Asset Management</td>\n",
       "    </tr>\n",
       "    <tr>\n",
       "      <th>2</th>\n",
       "      <td>2023-07-28 00:00:00+05:30</td>\n",
       "      <td>360ONE</td>\n",
       "      <td>500.402511</td>\n",
       "      <td>502.364874</td>\n",
       "      <td>498.489195</td>\n",
       "      <td>501.138397</td>\n",
       "      <td>97934</td>\n",
       "      <td>Asset Management</td>\n",
       "    </tr>\n",
       "    <tr>\n",
       "      <th>3</th>\n",
       "      <td>2023-07-31 00:00:00+05:30</td>\n",
       "      <td>360ONE</td>\n",
       "      <td>503.002650</td>\n",
       "      <td>515.071169</td>\n",
       "      <td>503.002650</td>\n",
       "      <td>511.833282</td>\n",
       "      <td>140811</td>\n",
       "      <td>Asset Management</td>\n",
       "    </tr>\n",
       "    <tr>\n",
       "      <th>4</th>\n",
       "      <td>2023-08-01 00:00:00+05:30</td>\n",
       "      <td>360ONE</td>\n",
       "      <td>515.120217</td>\n",
       "      <td>516.984485</td>\n",
       "      <td>501.678020</td>\n",
       "      <td>508.595337</td>\n",
       "      <td>319817</td>\n",
       "      <td>Asset Management</td>\n",
       "    </tr>\n",
       "    <tr>\n",
       "      <th>...</th>\n",
       "      <td>...</td>\n",
       "      <td>...</td>\n",
       "      <td>...</td>\n",
       "      <td>...</td>\n",
       "      <td>...</td>\n",
       "      <td>...</td>\n",
       "      <td>...</td>\n",
       "      <td>...</td>\n",
       "    </tr>\n",
       "    <tr>\n",
       "      <th>61135</th>\n",
       "      <td>2024-07-22 00:00:00+05:30</td>\n",
       "      <td>ECLERX</td>\n",
       "      <td>2390.000000</td>\n",
       "      <td>2445.350098</td>\n",
       "      <td>2380.000000</td>\n",
       "      <td>2434.550049</td>\n",
       "      <td>41236</td>\n",
       "      <td>Information Technology Services</td>\n",
       "    </tr>\n",
       "    <tr>\n",
       "      <th>61136</th>\n",
       "      <td>2024-07-23 00:00:00+05:30</td>\n",
       "      <td>ECLERX</td>\n",
       "      <td>2399.000000</td>\n",
       "      <td>2444.850098</td>\n",
       "      <td>2351.000000</td>\n",
       "      <td>2382.050049</td>\n",
       "      <td>83667</td>\n",
       "      <td>Information Technology Services</td>\n",
       "    </tr>\n",
       "    <tr>\n",
       "      <th>61137</th>\n",
       "      <td>2024-07-24 00:00:00+05:30</td>\n",
       "      <td>ECLERX</td>\n",
       "      <td>2383.699951</td>\n",
       "      <td>2437.000000</td>\n",
       "      <td>2375.000000</td>\n",
       "      <td>2431.100098</td>\n",
       "      <td>37555</td>\n",
       "      <td>Information Technology Services</td>\n",
       "    </tr>\n",
       "    <tr>\n",
       "      <th>61138</th>\n",
       "      <td>2024-07-25 00:00:00+05:30</td>\n",
       "      <td>ECLERX</td>\n",
       "      <td>2429.000000</td>\n",
       "      <td>2429.000000</td>\n",
       "      <td>2374.199951</td>\n",
       "      <td>2393.250000</td>\n",
       "      <td>38679</td>\n",
       "      <td>Information Technology Services</td>\n",
       "    </tr>\n",
       "    <tr>\n",
       "      <th>61139</th>\n",
       "      <td>2024-07-26 00:00:00+05:30</td>\n",
       "      <td>ECLERX</td>\n",
       "      <td>2396.000000</td>\n",
       "      <td>2417.100098</td>\n",
       "      <td>2374.000000</td>\n",
       "      <td>2390.500000</td>\n",
       "      <td>30459</td>\n",
       "      <td>Information Technology Services</td>\n",
       "    </tr>\n",
       "  </tbody>\n",
       "</table>\n",
       "<p>61140 rows × 8 columns</p>\n",
       "</div>"
      ],
      "text/plain": [
       "                           Date  Ticker         Open         High  \\\n",
       "0     2023-07-26 00:00:00+05:30  360ONE   511.099417   511.099417   \n",
       "1     2023-07-27 00:00:00+05:30  360ONE   499.417139   504.917566   \n",
       "2     2023-07-28 00:00:00+05:30  360ONE   500.402511   502.364874   \n",
       "3     2023-07-31 00:00:00+05:30  360ONE   503.002650   515.071169   \n",
       "4     2023-08-01 00:00:00+05:30  360ONE   515.120217   516.984485   \n",
       "...                         ...     ...          ...          ...   \n",
       "61135 2024-07-22 00:00:00+05:30  ECLERX  2390.000000  2445.350098   \n",
       "61136 2024-07-23 00:00:00+05:30  ECLERX  2399.000000  2444.850098   \n",
       "61137 2024-07-24 00:00:00+05:30  ECLERX  2383.699951  2437.000000   \n",
       "61138 2024-07-25 00:00:00+05:30  ECLERX  2429.000000  2429.000000   \n",
       "61139 2024-07-26 00:00:00+05:30  ECLERX  2396.000000  2417.100098   \n",
       "\n",
       "               Low        Close  Volume                           Sector  \n",
       "0       497.567458   499.417145  120782                 Asset Management  \n",
       "1       493.429981   498.881714   85462                 Asset Management  \n",
       "2       498.489195   501.138397   97934                 Asset Management  \n",
       "3       503.002650   511.833282  140811                 Asset Management  \n",
       "4       501.678020   508.595337  319817                 Asset Management  \n",
       "...            ...          ...     ...                              ...  \n",
       "61135  2380.000000  2434.550049   41236  Information Technology Services  \n",
       "61136  2351.000000  2382.050049   83667  Information Technology Services  \n",
       "61137  2375.000000  2431.100098   37555  Information Technology Services  \n",
       "61138  2374.199951  2393.250000   38679  Information Technology Services  \n",
       "61139  2374.000000  2390.500000   30459  Information Technology Services  \n",
       "\n",
       "[61140 rows x 8 columns]"
      ]
     },
     "execution_count": 1,
     "metadata": {},
     "output_type": "execute_result"
    }
   ],
   "source": [
    "import pandas as pd\n",
    "\n",
    "# Replace 'stocks_data.csv' with the actual path to your CSV file\n",
    "file_path = 'ind_niftysmallcap250list.csv'\n",
    "\n",
    "def extract_stock_codes(file_path):\n",
    "    try:\n",
    "        # Read the CSV file into a DataFrame\n",
    "        df = pd.read_csv(file_path)\n",
    "\n",
    "        # Extract the \"Stock Code\" column into a list\n",
    "        stock_codes_list = df['Symbol'].astype(str).tolist()\n",
    "\n",
    "        return stock_codes_list\n",
    "\n",
    "    except Exception as e:\n",
    "        print(f\"Error: {e}\")\n",
    "        return None\n",
    "\n",
    "# Example usage:\n",
    "stock_codes_list = extract_stock_codes(file_path)\n",
    "\n",
    "\n",
    "import yfinance as yf\n",
    "\n",
    "def get_stock_data_list(stock_codes, period='1y'):\n",
    "    all_stock_data = []\n",
    "\n",
    "    for stock_code in stock_codes:\n",
    "        try:\n",
    "            yahoo_ticker = stock_code + '.NS'\n",
    "            stock = yf.Ticker(yahoo_ticker)\n",
    "            data = stock.history(period=period)\n",
    "            if not data.empty:\n",
    "                # Extract relevant features from historical stock data\n",
    "                stock_data = {\n",
    "                    'Date': data.index.tolist(),\n",
    "                    'Ticker': stock_code,\n",
    "                    'Open': data['Open'].tolist(),\n",
    "                    'High': data['High'].tolist(),\n",
    "                    'Low': data['Low'].tolist(),\n",
    "                    'Close': data['Close'].tolist(),\n",
    "                    'Volume': data['Volume'].tolist(),\n",
    "                    'Sector': stock.info.get('industry', 'N/A')\n",
    "                }\n",
    "                all_stock_data.append(pd.DataFrame(stock_data))\n",
    "            else:\n",
    "                print(f\"No data available for {stock_code}\")\n",
    "        except Exception as e:\n",
    "            print(f\"Error fetching data for {stock_code}: {e}\")\n",
    "\n",
    "    return pd.concat(all_stock_data, ignore_index=True)\n",
    "\n",
    "# Example usage:\n",
    "duration_period = '1y'  # Change the duration as needed, e.g., '1mo', '3mo', '1y', etc.\n",
    "\n",
    "stock_data_df = get_stock_data_list(stock_codes_list, period=duration_period)\n",
    "\n",
    "# Display the DataFrame\n",
    "stock_data_df"
   ]
  },
  {
   "cell_type": "markdown",
   "id": "b69b4b9e",
   "metadata": {},
   "source": [
    "# 52 WEEK High Stocks"
   ]
  },
  {
   "cell_type": "code",
   "execution_count": 2,
   "id": "24258eeb",
   "metadata": {},
   "outputs": [
    {
     "name": "stdout",
     "output_type": "stream",
     "text": [
      "52 Week High Stocks:  (24, 5)\n"
     ]
    },
    {
     "data": {
      "text/html": [
       "<div>\n",
       "<style scoped>\n",
       "    .dataframe tbody tr th:only-of-type {\n",
       "        vertical-align: middle;\n",
       "    }\n",
       "\n",
       "    .dataframe tbody tr th {\n",
       "        vertical-align: top;\n",
       "    }\n",
       "\n",
       "    .dataframe thead th {\n",
       "        text-align: right;\n",
       "    }\n",
       "</style>\n",
       "<table border=\"1\" class=\"dataframe\">\n",
       "  <thead>\n",
       "    <tr style=\"text-align: right;\">\n",
       "      <th></th>\n",
       "      <th>Ticker</th>\n",
       "      <th>Close</th>\n",
       "      <th>Date</th>\n",
       "      <th>Volume</th>\n",
       "      <th>Sector</th>\n",
       "    </tr>\n",
       "  </thead>\n",
       "  <tbody>\n",
       "    <tr>\n",
       "      <th>0</th>\n",
       "      <td>AFFLE</td>\n",
       "      <td>1460.250000</td>\n",
       "      <td>2024-07-26 00:00:00+05:30</td>\n",
       "      <td>1060037</td>\n",
       "      <td>Advertising Agencies</td>\n",
       "    </tr>\n",
       "    <tr>\n",
       "      <th>1</th>\n",
       "      <td>APLLTD</td>\n",
       "      <td>1216.349976</td>\n",
       "      <td>2024-07-26 00:00:00+05:30</td>\n",
       "      <td>477497</td>\n",
       "      <td>Drug Manufacturers - Specialty &amp; Generic</td>\n",
       "    </tr>\n",
       "    <tr>\n",
       "      <th>2</th>\n",
       "      <td>CDSL</td>\n",
       "      <td>2446.800049</td>\n",
       "      <td>2024-07-26 00:00:00+05:30</td>\n",
       "      <td>1167614</td>\n",
       "      <td>Capital Markets</td>\n",
       "    </tr>\n",
       "    <tr>\n",
       "      <th>3</th>\n",
       "      <td>DEEPAKFERT</td>\n",
       "      <td>862.250000</td>\n",
       "      <td>2024-07-26 00:00:00+05:30</td>\n",
       "      <td>2556235</td>\n",
       "      <td>Chemicals</td>\n",
       "    </tr>\n",
       "    <tr>\n",
       "      <th>4</th>\n",
       "      <td>ERIS</td>\n",
       "      <td>1073.500000</td>\n",
       "      <td>2024-07-26 00:00:00+05:30</td>\n",
       "      <td>161475</td>\n",
       "      <td>Drug Manufacturers - Specialty &amp; Generic</td>\n",
       "    </tr>\n",
       "    <tr>\n",
       "      <th>5</th>\n",
       "      <td>FSL</td>\n",
       "      <td>256.269989</td>\n",
       "      <td>2024-07-26 00:00:00+05:30</td>\n",
       "      <td>7083391</td>\n",
       "      <td>Information Technology Services</td>\n",
       "    </tr>\n",
       "    <tr>\n",
       "      <th>6</th>\n",
       "      <td>GLENMARK</td>\n",
       "      <td>1438.400024</td>\n",
       "      <td>2024-07-26 00:00:00+05:30</td>\n",
       "      <td>703609</td>\n",
       "      <td>Drug Manufacturers - Specialty &amp; Generic</td>\n",
       "    </tr>\n",
       "    <tr>\n",
       "      <th>7</th>\n",
       "      <td>GRANULES</td>\n",
       "      <td>563.099976</td>\n",
       "      <td>2024-07-26 00:00:00+05:30</td>\n",
       "      <td>1267288</td>\n",
       "      <td>Drug Manufacturers - Specialty &amp; Generic</td>\n",
       "    </tr>\n",
       "    <tr>\n",
       "      <th>8</th>\n",
       "      <td>IDBI</td>\n",
       "      <td>104.220001</td>\n",
       "      <td>2024-07-26 00:00:00+05:30</td>\n",
       "      <td>87254681</td>\n",
       "      <td>Banks - Regional</td>\n",
       "    </tr>\n",
       "    <tr>\n",
       "      <th>9</th>\n",
       "      <td>INDIACEM</td>\n",
       "      <td>374.049988</td>\n",
       "      <td>2024-07-26 00:00:00+05:30</td>\n",
       "      <td>15095344</td>\n",
       "      <td>Building Materials</td>\n",
       "    </tr>\n",
       "    <tr>\n",
       "      <th>10</th>\n",
       "      <td>JYOTHYLAB</td>\n",
       "      <td>548.450012</td>\n",
       "      <td>2024-07-26 00:00:00+05:30</td>\n",
       "      <td>2747767</td>\n",
       "      <td>Household &amp; Personal Products</td>\n",
       "    </tr>\n",
       "    <tr>\n",
       "      <th>11</th>\n",
       "      <td>KARURVYSYA</td>\n",
       "      <td>222.520004</td>\n",
       "      <td>2024-07-26 00:00:00+05:30</td>\n",
       "      <td>8793486</td>\n",
       "      <td>Banks - Regional</td>\n",
       "    </tr>\n",
       "    <tr>\n",
       "      <th>12</th>\n",
       "      <td>LUXIND</td>\n",
       "      <td>1979.849976</td>\n",
       "      <td>2024-07-26 00:00:00+05:30</td>\n",
       "      <td>132820</td>\n",
       "      <td>Apparel Manufacturing</td>\n",
       "    </tr>\n",
       "    <tr>\n",
       "      <th>13</th>\n",
       "      <td>METROPOLIS</td>\n",
       "      <td>2121.399902</td>\n",
       "      <td>2024-07-26 00:00:00+05:30</td>\n",
       "      <td>215282</td>\n",
       "      <td>Diagnostics &amp; Research</td>\n",
       "    </tr>\n",
       "    <tr>\n",
       "      <th>14</th>\n",
       "      <td>MGL</td>\n",
       "      <td>1846.099976</td>\n",
       "      <td>2024-07-26 00:00:00+05:30</td>\n",
       "      <td>1685621</td>\n",
       "      <td>Utilities - Regulated Gas</td>\n",
       "    </tr>\n",
       "    <tr>\n",
       "      <th>15</th>\n",
       "      <td>NATCOPHARM</td>\n",
       "      <td>1334.650024</td>\n",
       "      <td>2024-07-26 00:00:00+05:30</td>\n",
       "      <td>632359</td>\n",
       "      <td>Drug Manufacturers - Specialty &amp; Generic</td>\n",
       "    </tr>\n",
       "    <tr>\n",
       "      <th>16</th>\n",
       "      <td>SHARDACROP</td>\n",
       "      <td>560.900024</td>\n",
       "      <td>2024-07-26 00:00:00+05:30</td>\n",
       "      <td>569676</td>\n",
       "      <td>Agricultural Inputs</td>\n",
       "    </tr>\n",
       "    <tr>\n",
       "      <th>17</th>\n",
       "      <td>SUPRAJIT</td>\n",
       "      <td>541.549988</td>\n",
       "      <td>2024-07-26 00:00:00+05:30</td>\n",
       "      <td>108916</td>\n",
       "      <td>Auto Parts</td>\n",
       "    </tr>\n",
       "    <tr>\n",
       "      <th>18</th>\n",
       "      <td>SUVENPHAR</td>\n",
       "      <td>928.450012</td>\n",
       "      <td>2024-07-26 00:00:00+05:30</td>\n",
       "      <td>857917</td>\n",
       "      <td>Drug Manufacturers - Specialty &amp; Generic</td>\n",
       "    </tr>\n",
       "    <tr>\n",
       "      <th>19</th>\n",
       "      <td>SUZLON</td>\n",
       "      <td>61.889999</td>\n",
       "      <td>2024-07-26 00:00:00+05:30</td>\n",
       "      <td>67858407</td>\n",
       "      <td>Specialty Industrial Machinery</td>\n",
       "    </tr>\n",
       "    <tr>\n",
       "      <th>20</th>\n",
       "      <td>VTL</td>\n",
       "      <td>558.799988</td>\n",
       "      <td>2024-07-26 00:00:00+05:30</td>\n",
       "      <td>338016</td>\n",
       "      <td>Textile Manufacturing</td>\n",
       "    </tr>\n",
       "    <tr>\n",
       "      <th>21</th>\n",
       "      <td>WELSPUNLIV</td>\n",
       "      <td>182.729996</td>\n",
       "      <td>2024-07-26 00:00:00+05:30</td>\n",
       "      <td>6872529</td>\n",
       "      <td>Textile Manufacturing</td>\n",
       "    </tr>\n",
       "    <tr>\n",
       "      <th>22</th>\n",
       "      <td>ZENSARTECH</td>\n",
       "      <td>808.849976</td>\n",
       "      <td>2024-07-26 00:00:00+05:30</td>\n",
       "      <td>4148620</td>\n",
       "      <td>Information Technology Services</td>\n",
       "    </tr>\n",
       "    <tr>\n",
       "      <th>23</th>\n",
       "      <td>ZYDUSWELL</td>\n",
       "      <td>2384.149902</td>\n",
       "      <td>2024-07-26 00:00:00+05:30</td>\n",
       "      <td>36669</td>\n",
       "      <td>Packaged Foods</td>\n",
       "    </tr>\n",
       "  </tbody>\n",
       "</table>\n",
       "</div>"
      ],
      "text/plain": [
       "        Ticker        Close                      Date    Volume  \\\n",
       "0        AFFLE  1460.250000 2024-07-26 00:00:00+05:30   1060037   \n",
       "1       APLLTD  1216.349976 2024-07-26 00:00:00+05:30    477497   \n",
       "2         CDSL  2446.800049 2024-07-26 00:00:00+05:30   1167614   \n",
       "3   DEEPAKFERT   862.250000 2024-07-26 00:00:00+05:30   2556235   \n",
       "4         ERIS  1073.500000 2024-07-26 00:00:00+05:30    161475   \n",
       "5          FSL   256.269989 2024-07-26 00:00:00+05:30   7083391   \n",
       "6     GLENMARK  1438.400024 2024-07-26 00:00:00+05:30    703609   \n",
       "7     GRANULES   563.099976 2024-07-26 00:00:00+05:30   1267288   \n",
       "8         IDBI   104.220001 2024-07-26 00:00:00+05:30  87254681   \n",
       "9     INDIACEM   374.049988 2024-07-26 00:00:00+05:30  15095344   \n",
       "10   JYOTHYLAB   548.450012 2024-07-26 00:00:00+05:30   2747767   \n",
       "11  KARURVYSYA   222.520004 2024-07-26 00:00:00+05:30   8793486   \n",
       "12      LUXIND  1979.849976 2024-07-26 00:00:00+05:30    132820   \n",
       "13  METROPOLIS  2121.399902 2024-07-26 00:00:00+05:30    215282   \n",
       "14         MGL  1846.099976 2024-07-26 00:00:00+05:30   1685621   \n",
       "15  NATCOPHARM  1334.650024 2024-07-26 00:00:00+05:30    632359   \n",
       "16  SHARDACROP   560.900024 2024-07-26 00:00:00+05:30    569676   \n",
       "17    SUPRAJIT   541.549988 2024-07-26 00:00:00+05:30    108916   \n",
       "18   SUVENPHAR   928.450012 2024-07-26 00:00:00+05:30    857917   \n",
       "19      SUZLON    61.889999 2024-07-26 00:00:00+05:30  67858407   \n",
       "20         VTL   558.799988 2024-07-26 00:00:00+05:30    338016   \n",
       "21  WELSPUNLIV   182.729996 2024-07-26 00:00:00+05:30   6872529   \n",
       "22  ZENSARTECH   808.849976 2024-07-26 00:00:00+05:30   4148620   \n",
       "23   ZYDUSWELL  2384.149902 2024-07-26 00:00:00+05:30     36669   \n",
       "\n",
       "                                      Sector  \n",
       "0                       Advertising Agencies  \n",
       "1   Drug Manufacturers - Specialty & Generic  \n",
       "2                            Capital Markets  \n",
       "3                                  Chemicals  \n",
       "4   Drug Manufacturers - Specialty & Generic  \n",
       "5            Information Technology Services  \n",
       "6   Drug Manufacturers - Specialty & Generic  \n",
       "7   Drug Manufacturers - Specialty & Generic  \n",
       "8                           Banks - Regional  \n",
       "9                         Building Materials  \n",
       "10             Household & Personal Products  \n",
       "11                          Banks - Regional  \n",
       "12                     Apparel Manufacturing  \n",
       "13                    Diagnostics & Research  \n",
       "14                 Utilities - Regulated Gas  \n",
       "15  Drug Manufacturers - Specialty & Generic  \n",
       "16                       Agricultural Inputs  \n",
       "17                                Auto Parts  \n",
       "18  Drug Manufacturers - Specialty & Generic  \n",
       "19            Specialty Industrial Machinery  \n",
       "20                     Textile Manufacturing  \n",
       "21                     Textile Manufacturing  \n",
       "22           Information Technology Services  \n",
       "23                            Packaged Foods  "
      ]
     },
     "execution_count": 2,
     "metadata": {},
     "output_type": "execute_result"
    }
   ],
   "source": [
    "df = stock_data_df\n",
    "df['Date'] = pd.to_datetime(df['Date'])\n",
    "latest_close = df.loc[df.groupby('Ticker')['Date'].idxmax()]\n",
    "past_max_close = df[df['Date'] < latest_close['Date'].max()].groupby('Ticker')['Close'].max()\n",
    "latest_close = latest_close[latest_close['Ticker'].map(latest_close.set_index('Ticker')['Close']) >latest_close['Ticker'].map(past_max_close)]\n",
    "# Select the desired columns\n",
    "result = latest_close[['Ticker', 'Close', 'Date', 'Volume', 'Sector']]\n",
    "result = result.reset_index(drop=True)\n",
    "print(\"52 Week High Stocks: \", result.shape)\n",
    "result.head(30)"
   ]
  },
  {
   "cell_type": "markdown",
   "id": "34657593",
   "metadata": {},
   "source": [
    "# Statistics"
   ]
  },
  {
   "cell_type": "code",
   "execution_count": 3,
   "id": "5d54cec1",
   "metadata": {},
   "outputs": [
    {
     "data": {
      "text/html": [
       "<div>\n",
       "<style scoped>\n",
       "    .dataframe tbody tr th:only-of-type {\n",
       "        vertical-align: middle;\n",
       "    }\n",
       "\n",
       "    .dataframe tbody tr th {\n",
       "        vertical-align: top;\n",
       "    }\n",
       "\n",
       "    .dataframe thead th {\n",
       "        text-align: right;\n",
       "    }\n",
       "</style>\n",
       "<table border=\"1\" class=\"dataframe\">\n",
       "  <thead>\n",
       "    <tr style=\"text-align: right;\">\n",
       "      <th></th>\n",
       "      <th>Ticker</th>\n",
       "      <th>Close_min</th>\n",
       "      <th>Close_max</th>\n",
       "      <th>Close_median</th>\n",
       "      <th>Close_mean</th>\n",
       "      <th>Close_var</th>\n",
       "      <th>Close_std</th>\n",
       "    </tr>\n",
       "  </thead>\n",
       "  <tbody>\n",
       "    <tr>\n",
       "      <th>0</th>\n",
       "      <td>AFFLE</td>\n",
       "      <td>1013.599976</td>\n",
       "      <td>1460.250000</td>\n",
       "      <td>1113.849976</td>\n",
       "      <td>1152.230611</td>\n",
       "      <td>10845.304915</td>\n",
       "      <td>104.140794</td>\n",
       "    </tr>\n",
       "    <tr>\n",
       "      <th>1</th>\n",
       "      <td>APLLTD</td>\n",
       "      <td>692.655273</td>\n",
       "      <td>1216.349976</td>\n",
       "      <td>870.731934</td>\n",
       "      <td>866.746612</td>\n",
       "      <td>13038.887009</td>\n",
       "      <td>114.187946</td>\n",
       "    </tr>\n",
       "    <tr>\n",
       "      <th>2</th>\n",
       "      <td>CDSL</td>\n",
       "      <td>1122.399292</td>\n",
       "      <td>2446.800049</td>\n",
       "      <td>1842.700439</td>\n",
       "      <td>1764.215112</td>\n",
       "      <td>125667.869621</td>\n",
       "      <td>354.496643</td>\n",
       "    </tr>\n",
       "    <tr>\n",
       "      <th>3</th>\n",
       "      <td>DEEPAKFERT</td>\n",
       "      <td>459.950012</td>\n",
       "      <td>862.250000</td>\n",
       "      <td>608.400024</td>\n",
       "      <td>605.354590</td>\n",
       "      <td>5939.449200</td>\n",
       "      <td>77.067822</td>\n",
       "    </tr>\n",
       "    <tr>\n",
       "      <th>4</th>\n",
       "      <td>ERIS</td>\n",
       "      <td>757.650024</td>\n",
       "      <td>1073.500000</td>\n",
       "      <td>883.049988</td>\n",
       "      <td>893.292653</td>\n",
       "      <td>4467.411455</td>\n",
       "      <td>66.838697</td>\n",
       "    </tr>\n",
       "    <tr>\n",
       "      <th>5</th>\n",
       "      <td>FSL</td>\n",
       "      <td>134.905045</td>\n",
       "      <td>256.269989</td>\n",
       "      <td>187.226181</td>\n",
       "      <td>185.298625</td>\n",
       "      <td>674.289358</td>\n",
       "      <td>25.967082</td>\n",
       "    </tr>\n",
       "    <tr>\n",
       "      <th>6</th>\n",
       "      <td>GLENMARK</td>\n",
       "      <td>724.450012</td>\n",
       "      <td>1438.400024</td>\n",
       "      <td>879.650024</td>\n",
       "      <td>938.029977</td>\n",
       "      <td>33733.675115</td>\n",
       "      <td>183.667295</td>\n",
       "    </tr>\n",
       "    <tr>\n",
       "      <th>7</th>\n",
       "      <td>GRANULES</td>\n",
       "      <td>290.350006</td>\n",
       "      <td>563.099976</td>\n",
       "      <td>410.850006</td>\n",
       "      <td>402.096041</td>\n",
       "      <td>3813.504324</td>\n",
       "      <td>61.753577</td>\n",
       "    </tr>\n",
       "    <tr>\n",
       "      <th>8</th>\n",
       "      <td>IDBI</td>\n",
       "      <td>56.507992</td>\n",
       "      <td>104.220001</td>\n",
       "      <td>75.442345</td>\n",
       "      <td>74.907477</td>\n",
       "      <td>123.846719</td>\n",
       "      <td>11.128644</td>\n",
       "    </tr>\n",
       "    <tr>\n",
       "      <th>9</th>\n",
       "      <td>INDIACEM</td>\n",
       "      <td>184.699997</td>\n",
       "      <td>374.049988</td>\n",
       "      <td>231.149994</td>\n",
       "      <td>238.106899</td>\n",
       "      <td>940.816443</td>\n",
       "      <td>30.672731</td>\n",
       "    </tr>\n",
       "    <tr>\n",
       "      <th>10</th>\n",
       "      <td>JYOTHYLAB</td>\n",
       "      <td>300.926788</td>\n",
       "      <td>548.450012</td>\n",
       "      <td>431.809845</td>\n",
       "      <td>422.962925</td>\n",
       "      <td>3437.023475</td>\n",
       "      <td>58.626133</td>\n",
       "    </tr>\n",
       "    <tr>\n",
       "      <th>11</th>\n",
       "      <td>KARURVYSYA</td>\n",
       "      <td>116.849998</td>\n",
       "      <td>222.520004</td>\n",
       "      <td>174.500000</td>\n",
       "      <td>168.884480</td>\n",
       "      <td>815.020326</td>\n",
       "      <td>28.548561</td>\n",
       "    </tr>\n",
       "    <tr>\n",
       "      <th>12</th>\n",
       "      <td>LUXIND</td>\n",
       "      <td>1074.349976</td>\n",
       "      <td>1979.849976</td>\n",
       "      <td>1377.300049</td>\n",
       "      <td>1392.649157</td>\n",
       "      <td>31392.450192</td>\n",
       "      <td>177.179147</td>\n",
       "    </tr>\n",
       "    <tr>\n",
       "      <th>13</th>\n",
       "      <td>METROPOLIS</td>\n",
       "      <td>1310.230225</td>\n",
       "      <td>2121.399902</td>\n",
       "      <td>1653.699951</td>\n",
       "      <td>1665.647922</td>\n",
       "      <td>43584.827181</td>\n",
       "      <td>208.769795</td>\n",
       "    </tr>\n",
       "    <tr>\n",
       "      <th>14</th>\n",
       "      <td>MGL</td>\n",
       "      <td>972.781555</td>\n",
       "      <td>1846.099976</td>\n",
       "      <td>1264.199951</td>\n",
       "      <td>1269.571032</td>\n",
       "      <td>48086.345396</td>\n",
       "      <td>219.285990</td>\n",
       "    </tr>\n",
       "    <tr>\n",
       "      <th>15</th>\n",
       "      <td>NATCOPHARM</td>\n",
       "      <td>731.547302</td>\n",
       "      <td>1334.650024</td>\n",
       "      <td>879.781372</td>\n",
       "      <td>930.536041</td>\n",
       "      <td>19463.619341</td>\n",
       "      <td>139.512076</td>\n",
       "    </tr>\n",
       "    <tr>\n",
       "      <th>16</th>\n",
       "      <td>SHARDACROP</td>\n",
       "      <td>321.149994</td>\n",
       "      <td>560.900024</td>\n",
       "      <td>421.200012</td>\n",
       "      <td>414.996923</td>\n",
       "      <td>1906.832785</td>\n",
       "      <td>43.667297</td>\n",
       "    </tr>\n",
       "    <tr>\n",
       "      <th>17</th>\n",
       "      <td>SUPRAJIT</td>\n",
       "      <td>360.906128</td>\n",
       "      <td>541.549988</td>\n",
       "      <td>407.100006</td>\n",
       "      <td>416.491605</td>\n",
       "      <td>2051.754812</td>\n",
       "      <td>45.296300</td>\n",
       "    </tr>\n",
       "    <tr>\n",
       "      <th>18</th>\n",
       "      <td>SUVENPHAR</td>\n",
       "      <td>488.950012</td>\n",
       "      <td>928.450012</td>\n",
       "      <td>644.950012</td>\n",
       "      <td>639.695508</td>\n",
       "      <td>8244.953753</td>\n",
       "      <td>90.801728</td>\n",
       "    </tr>\n",
       "    <tr>\n",
       "      <th>19</th>\n",
       "      <td>SUZLON</td>\n",
       "      <td>17.850000</td>\n",
       "      <td>61.889999</td>\n",
       "      <td>40.099998</td>\n",
       "      <td>38.585020</td>\n",
       "      <td>105.473801</td>\n",
       "      <td>10.270044</td>\n",
       "    </tr>\n",
       "    <tr>\n",
       "      <th>20</th>\n",
       "      <td>VTL</td>\n",
       "      <td>334.750854</td>\n",
       "      <td>558.799988</td>\n",
       "      <td>413.750000</td>\n",
       "      <td>419.263466</td>\n",
       "      <td>2355.421087</td>\n",
       "      <td>48.532681</td>\n",
       "    </tr>\n",
       "    <tr>\n",
       "      <th>21</th>\n",
       "      <td>WELSPUNLIV</td>\n",
       "      <td>100.230881</td>\n",
       "      <td>182.729996</td>\n",
       "      <td>147.148529</td>\n",
       "      <td>143.465628</td>\n",
       "      <td>256.934419</td>\n",
       "      <td>16.029174</td>\n",
       "    </tr>\n",
       "    <tr>\n",
       "      <th>22</th>\n",
       "      <td>ZENSARTECH</td>\n",
       "      <td>469.427216</td>\n",
       "      <td>808.849976</td>\n",
       "      <td>558.018860</td>\n",
       "      <td>574.227759</td>\n",
       "      <td>6016.138908</td>\n",
       "      <td>77.563773</td>\n",
       "    </tr>\n",
       "    <tr>\n",
       "      <th>23</th>\n",
       "      <td>ZYDUSWELL</td>\n",
       "      <td>1427.404785</td>\n",
       "      <td>2384.149902</td>\n",
       "      <td>1592.368164</td>\n",
       "      <td>1649.461544</td>\n",
       "      <td>31821.653943</td>\n",
       "      <td>178.386249</td>\n",
       "    </tr>\n",
       "  </tbody>\n",
       "</table>\n",
       "</div>"
      ],
      "text/plain": [
       "        Ticker    Close_min    Close_max  Close_median   Close_mean  \\\n",
       "0        AFFLE  1013.599976  1460.250000   1113.849976  1152.230611   \n",
       "1       APLLTD   692.655273  1216.349976    870.731934   866.746612   \n",
       "2         CDSL  1122.399292  2446.800049   1842.700439  1764.215112   \n",
       "3   DEEPAKFERT   459.950012   862.250000    608.400024   605.354590   \n",
       "4         ERIS   757.650024  1073.500000    883.049988   893.292653   \n",
       "5          FSL   134.905045   256.269989    187.226181   185.298625   \n",
       "6     GLENMARK   724.450012  1438.400024    879.650024   938.029977   \n",
       "7     GRANULES   290.350006   563.099976    410.850006   402.096041   \n",
       "8         IDBI    56.507992   104.220001     75.442345    74.907477   \n",
       "9     INDIACEM   184.699997   374.049988    231.149994   238.106899   \n",
       "10   JYOTHYLAB   300.926788   548.450012    431.809845   422.962925   \n",
       "11  KARURVYSYA   116.849998   222.520004    174.500000   168.884480   \n",
       "12      LUXIND  1074.349976  1979.849976   1377.300049  1392.649157   \n",
       "13  METROPOLIS  1310.230225  2121.399902   1653.699951  1665.647922   \n",
       "14         MGL   972.781555  1846.099976   1264.199951  1269.571032   \n",
       "15  NATCOPHARM   731.547302  1334.650024    879.781372   930.536041   \n",
       "16  SHARDACROP   321.149994   560.900024    421.200012   414.996923   \n",
       "17    SUPRAJIT   360.906128   541.549988    407.100006   416.491605   \n",
       "18   SUVENPHAR   488.950012   928.450012    644.950012   639.695508   \n",
       "19      SUZLON    17.850000    61.889999     40.099998    38.585020   \n",
       "20         VTL   334.750854   558.799988    413.750000   419.263466   \n",
       "21  WELSPUNLIV   100.230881   182.729996    147.148529   143.465628   \n",
       "22  ZENSARTECH   469.427216   808.849976    558.018860   574.227759   \n",
       "23   ZYDUSWELL  1427.404785  2384.149902   1592.368164  1649.461544   \n",
       "\n",
       "        Close_var   Close_std  \n",
       "0    10845.304915  104.140794  \n",
       "1    13038.887009  114.187946  \n",
       "2   125667.869621  354.496643  \n",
       "3     5939.449200   77.067822  \n",
       "4     4467.411455   66.838697  \n",
       "5      674.289358   25.967082  \n",
       "6    33733.675115  183.667295  \n",
       "7     3813.504324   61.753577  \n",
       "8      123.846719   11.128644  \n",
       "9      940.816443   30.672731  \n",
       "10    3437.023475   58.626133  \n",
       "11     815.020326   28.548561  \n",
       "12   31392.450192  177.179147  \n",
       "13   43584.827181  208.769795  \n",
       "14   48086.345396  219.285990  \n",
       "15   19463.619341  139.512076  \n",
       "16    1906.832785   43.667297  \n",
       "17    2051.754812   45.296300  \n",
       "18    8244.953753   90.801728  \n",
       "19     105.473801   10.270044  \n",
       "20    2355.421087   48.532681  \n",
       "21     256.934419   16.029174  \n",
       "22    6016.138908   77.563773  \n",
       "23   31821.653943  178.386249  "
      ]
     },
     "execution_count": 3,
     "metadata": {},
     "output_type": "execute_result"
    }
   ],
   "source": [
    "# Group by Ticker and calculate the requested statistics\n",
    "\n",
    "#List\n",
    "df = stock_data_df[(stock_data_df.Ticker.isin(result.Ticker.tolist()))].reset_index(drop=True)\n",
    "\n",
    "ticker_grouped = df.groupby('Ticker')\n",
    "agg_functions = {\n",
    "    'Close': ['min', 'max', 'median', 'mean', 'var', 'std']\n",
    "}\n",
    "\n",
    "stock_summary = ticker_grouped.agg(agg_functions).reset_index()\n",
    "\n",
    "# Flatten the multi-level columns\n",
    "stock_summary.columns = ['{}_{}'.format(col[0], col[1]) for col in stock_summary.columns]\n",
    "stock_summary = stock_summary.rename(columns={'Ticker_': 'Ticker'})\n",
    "\n",
    "# Display the summary DataFrame\n",
    "stock_summary"
   ]
  },
  {
   "cell_type": "code",
   "execution_count": 4,
   "id": "8071d623",
   "metadata": {},
   "outputs": [
    {
     "data": {
      "text/html": [
       "<div>\n",
       "<style scoped>\n",
       "    .dataframe tbody tr th:only-of-type {\n",
       "        vertical-align: middle;\n",
       "    }\n",
       "\n",
       "    .dataframe tbody tr th {\n",
       "        vertical-align: top;\n",
       "    }\n",
       "\n",
       "    .dataframe thead th {\n",
       "        text-align: right;\n",
       "    }\n",
       "</style>\n",
       "<table border=\"1\" class=\"dataframe\">\n",
       "  <thead>\n",
       "    <tr style=\"text-align: right;\">\n",
       "      <th></th>\n",
       "      <th>Date</th>\n",
       "      <th>Ticker</th>\n",
       "      <th>Open</th>\n",
       "      <th>High</th>\n",
       "      <th>Low</th>\n",
       "      <th>Close</th>\n",
       "      <th>Volume</th>\n",
       "      <th>Sector</th>\n",
       "      <th>Close_min</th>\n",
       "      <th>Close_max</th>\n",
       "      <th>Close_median</th>\n",
       "      <th>Close_mean</th>\n",
       "      <th>Close_var</th>\n",
       "      <th>Close_std</th>\n",
       "      <th>Close_z_score</th>\n",
       "      <th>ZScore_Category</th>\n",
       "    </tr>\n",
       "  </thead>\n",
       "  <tbody>\n",
       "    <tr>\n",
       "      <th>0</th>\n",
       "      <td>2024-07-26</td>\n",
       "      <td>AFFLE</td>\n",
       "      <td>1433.800049</td>\n",
       "      <td>1488.550049</td>\n",
       "      <td>1422.300049</td>\n",
       "      <td>1460.250000</td>\n",
       "      <td>1060037</td>\n",
       "      <td>Advertising Agencies</td>\n",
       "      <td>1013.599976</td>\n",
       "      <td>1460.25</td>\n",
       "      <td>1113.849976</td>\n",
       "      <td>1152.230611</td>\n",
       "      <td>10845.304915</td>\n",
       "      <td>104.140794</td>\n",
       "      <td>2.957721</td>\n",
       "      <td>Within_3</td>\n",
       "    </tr>\n",
       "    <tr>\n",
       "      <th>1</th>\n",
       "      <td>2024-07-25</td>\n",
       "      <td>AFFLE</td>\n",
       "      <td>1380.000000</td>\n",
       "      <td>1444.900024</td>\n",
       "      <td>1368.300049</td>\n",
       "      <td>1433.849976</td>\n",
       "      <td>869911</td>\n",
       "      <td>Advertising Agencies</td>\n",
       "      <td>1013.599976</td>\n",
       "      <td>1460.25</td>\n",
       "      <td>1113.849976</td>\n",
       "      <td>1152.230611</td>\n",
       "      <td>10845.304915</td>\n",
       "      <td>104.140794</td>\n",
       "      <td>2.704218</td>\n",
       "      <td>Within_3</td>\n",
       "    </tr>\n",
       "    <tr>\n",
       "      <th>2</th>\n",
       "      <td>2024-07-24</td>\n",
       "      <td>AFFLE</td>\n",
       "      <td>1380.000000</td>\n",
       "      <td>1419.000000</td>\n",
       "      <td>1373.050049</td>\n",
       "      <td>1402.949951</td>\n",
       "      <td>262890</td>\n",
       "      <td>Advertising Agencies</td>\n",
       "      <td>1013.599976</td>\n",
       "      <td>1460.25</td>\n",
       "      <td>1113.849976</td>\n",
       "      <td>1152.230611</td>\n",
       "      <td>10845.304915</td>\n",
       "      <td>104.140794</td>\n",
       "      <td>2.407504</td>\n",
       "      <td>Within_3</td>\n",
       "    </tr>\n",
       "    <tr>\n",
       "      <th>3</th>\n",
       "      <td>2024-07-23</td>\n",
       "      <td>AFFLE</td>\n",
       "      <td>1381.900024</td>\n",
       "      <td>1389.900024</td>\n",
       "      <td>1324.050049</td>\n",
       "      <td>1381.050049</td>\n",
       "      <td>485339</td>\n",
       "      <td>Advertising Agencies</td>\n",
       "      <td>1013.599976</td>\n",
       "      <td>1460.25</td>\n",
       "      <td>1113.849976</td>\n",
       "      <td>1152.230611</td>\n",
       "      <td>10845.304915</td>\n",
       "      <td>104.140794</td>\n",
       "      <td>2.197212</td>\n",
       "      <td>Within_3</td>\n",
       "    </tr>\n",
       "    <tr>\n",
       "      <th>4</th>\n",
       "      <td>2024-07-22</td>\n",
       "      <td>AFFLE</td>\n",
       "      <td>1351.000000</td>\n",
       "      <td>1383.949951</td>\n",
       "      <td>1336.900024</td>\n",
       "      <td>1372.949951</td>\n",
       "      <td>293290</td>\n",
       "      <td>Advertising Agencies</td>\n",
       "      <td>1013.599976</td>\n",
       "      <td>1460.25</td>\n",
       "      <td>1113.849976</td>\n",
       "      <td>1152.230611</td>\n",
       "      <td>10845.304915</td>\n",
       "      <td>104.140794</td>\n",
       "      <td>2.119432</td>\n",
       "      <td>Within_3</td>\n",
       "    </tr>\n",
       "  </tbody>\n",
       "</table>\n",
       "</div>"
      ],
      "text/plain": [
       "        Date Ticker         Open         High          Low        Close  \\\n",
       "0 2024-07-26  AFFLE  1433.800049  1488.550049  1422.300049  1460.250000   \n",
       "1 2024-07-25  AFFLE  1380.000000  1444.900024  1368.300049  1433.849976   \n",
       "2 2024-07-24  AFFLE  1380.000000  1419.000000  1373.050049  1402.949951   \n",
       "3 2024-07-23  AFFLE  1381.900024  1389.900024  1324.050049  1381.050049   \n",
       "4 2024-07-22  AFFLE  1351.000000  1383.949951  1336.900024  1372.949951   \n",
       "\n",
       "    Volume                Sector    Close_min  Close_max  Close_median  \\\n",
       "0  1060037  Advertising Agencies  1013.599976    1460.25   1113.849976   \n",
       "1   869911  Advertising Agencies  1013.599976    1460.25   1113.849976   \n",
       "2   262890  Advertising Agencies  1013.599976    1460.25   1113.849976   \n",
       "3   485339  Advertising Agencies  1013.599976    1460.25   1113.849976   \n",
       "4   293290  Advertising Agencies  1013.599976    1460.25   1113.849976   \n",
       "\n",
       "    Close_mean     Close_var   Close_std  Close_z_score ZScore_Category  \n",
       "0  1152.230611  10845.304915  104.140794       2.957721        Within_3  \n",
       "1  1152.230611  10845.304915  104.140794       2.704218        Within_3  \n",
       "2  1152.230611  10845.304915  104.140794       2.407504        Within_3  \n",
       "3  1152.230611  10845.304915  104.140794       2.197212        Within_3  \n",
       "4  1152.230611  10845.304915  104.140794       2.119432        Within_3  "
      ]
     },
     "execution_count": 4,
     "metadata": {},
     "output_type": "execute_result"
    }
   ],
   "source": [
    "# Left join the ticker_features DataFrame with the original stock_data_df DataFrame\n",
    "import numpy as np\n",
    "\n",
    "#List\n",
    "df = stock_data_df[(stock_data_df.Ticker.isin(result.Ticker.tolist()))].reset_index(drop=True)\n",
    "\n",
    "merged_df = pd.merge(df , stock_summary, on='Ticker', how='left')\n",
    "\n",
    "merged_df['Close_z_score'] = (merged_df['Close'] - merged_df['Close_mean']) / merged_df['Close_std']\n",
    "\n",
    "# Format the 'Date' column\n",
    "merged_df['Date'] = merged_df['Date'].dt.strftime('%Y-%m-%d')\n",
    "merged_df['Date'] = pd.to_datetime(merged_df['Date'])\n",
    "\n",
    "# Define the conditions and corresponding values for the new column\n",
    "conditions = [\n",
    "    (merged_df['Close_z_score'] <= 1) & (merged_df['Close_z_score'] >= -1),\n",
    "    (merged_df['Close_z_score'] <= 2) & (merged_df['Close_z_score'] >= -2),\n",
    "    (merged_df['Close_z_score'] <= 3) & (merged_df['Close_z_score'] >= -3),\n",
    "    (merged_df['Close_z_score'] > 3) & (merged_df['Close_z_score'] < -3),\n",
    "]\n",
    "\n",
    "# Define corresponding values for each condition\n",
    "values = ['Within_1', 'Within_2', 'Within_3', 'More_3']\n",
    "\n",
    "# Create the new column based on the conditions\n",
    "merged_df['ZScore_Category'] = np.select(conditions, values, default='Other')\n",
    "\n",
    "\n",
    "# Sort the DataFrame by 'Ticker' and 'Date'\n",
    "merged_df = merged_df.sort_values(by=['Ticker', 'Date'], ascending=[True, False]).reset_index(drop=True)\n",
    "\n",
    "# Display the merged DataFrame\n",
    "merged_df.head()"
   ]
  },
  {
   "cell_type": "markdown",
   "id": "9c4e52b7",
   "metadata": {},
   "source": [
    "# Forecast Close price"
   ]
  },
  {
   "cell_type": "code",
   "execution_count": 38,
   "id": "c0d3bfff-baf4-4005-88aa-b1660990138d",
   "metadata": {},
   "outputs": [],
   "source": [
    "import numpy as np\n",
    "import pandas as pd\n",
    "import matplotlib.pyplot as plt\n",
    "from sklearn.preprocessing import MinMaxScaler\n",
    "from tensorflow.keras.models import Sequential\n",
    "from tensorflow.keras.layers import Dense, LSTM, Dropout, Input"
   ]
  },
  {
   "cell_type": "code",
   "execution_count": 39,
   "id": "7a71981f-9687-4b1e-a895-5d304a0b336f",
   "metadata": {},
   "outputs": [
    {
     "name": "stdout",
     "output_type": "stream",
     "text": [
      "                       Date  Ticker       Open       High        Low  \\\n",
      "0 2023-07-26 00:00:00+05:30  SUZLON  18.049999  18.049999  18.049999   \n",
      "1 2023-07-27 00:00:00+05:30  SUZLON  17.650000  18.400000  17.450001   \n",
      "2 2023-07-28 00:00:00+05:30  SUZLON  17.799999  18.250000  17.700001   \n",
      "3 2023-07-31 00:00:00+05:30  SUZLON  18.200001  18.950001  18.049999   \n",
      "4 2023-08-01 00:00:00+05:30  SUZLON  19.549999  19.850000  19.100000   \n",
      "\n",
      "       Close     Volume                          Sector  \n",
      "0  18.049999   41086178  Specialty Industrial Machinery  \n",
      "1  17.850000  250669150  Specialty Industrial Machinery  \n",
      "2  18.049999   97658422  Specialty Industrial Machinery  \n",
      "3  18.950001  123353716  Specialty Industrial Machinery  \n",
      "4  19.299999  167771796  Specialty Industrial Machinery  \n"
     ]
    }
   ],
   "source": [
    "#One Stock\n",
    "df = stock_data_df[(stock_data_df.Ticker=='SUZLON')].reset_index(drop=True)\n",
    "# Display the first 5 rows of the dataframe\n",
    "print(df.head())\n",
    "\n",
    "# Extract the 'Close' prices as our feature\n",
    "data = df['Close'].values.reshape(-1, 1)"
   ]
  },
  {
   "cell_type": "code",
   "execution_count": 40,
   "id": "1441403f",
   "metadata": {},
   "outputs": [],
   "source": [
    "# Normalize the data to the range [0, 1]\n",
    "scaler = MinMaxScaler(feature_range=(0, 1))\n",
    "scaled_data = scaler.fit_transform(data)\n",
    "\n",
    "# Split the data into training and testing sets\n",
    "training_data_len = int(np.ceil(len(scaled_data) * 0.8))\n",
    "train_data = scaled_data[0:training_data_len, :]"
   ]
  },
  {
   "cell_type": "code",
   "execution_count": 41,
   "id": "ad947a61",
   "metadata": {},
   "outputs": [],
   "source": [
    "# Create the training dataset\n",
    "x_train = []\n",
    "y_train = []\n",
    "\n",
    "for i in range(60, len(train_data)):\n",
    "    x_train.append(train_data[i-60:i, 0])\n",
    "    y_train.append(train_data[i, 0])"
   ]
  },
  {
   "cell_type": "code",
   "execution_count": 42,
   "id": "b2f6f3e2-3569-44d2-8269-483e1aa8b1b3",
   "metadata": {},
   "outputs": [],
   "source": [
    "# Convert the training datasets to numpy arrays\n",
    "x_train, y_train = np.array(x_train), np.array(y_train)\n",
    "\n",
    "# Reshape the data to be 3-dimensional for LSTM input\n",
    "x_train = np.reshape(x_train, (x_train.shape[0], x_train.shape[1], 1))"
   ]
  },
  {
   "cell_type": "code",
   "execution_count": 43,
   "id": "d737aa8e-2ca1-41fa-b87a-182ad4a5378b",
   "metadata": {},
   "outputs": [
    {
     "name": "stderr",
     "output_type": "stream",
     "text": [
      "C:\\Users\\Abhishek_Jaiswal\\AppData\\Local\\miniconda3\\envs\\myenv\\Lib\\site-packages\\keras\\src\\layers\\rnn\\rnn.py:204: UserWarning:\n",
      "\n",
      "Do not pass an `input_shape`/`input_dim` argument to a layer. When using Sequential models, prefer using an `Input(shape)` object as the first layer in the model instead.\n",
      "\n"
     ]
    },
    {
     "data": {
      "text/html": [
       "<pre style=\"white-space:pre;overflow-x:auto;line-height:normal;font-family:Menlo,'DejaVu Sans Mono',consolas,'Courier New',monospace\"><span style=\"font-weight: bold\">Model: \"sequential_3\"</span>\n",
       "</pre>\n"
      ],
      "text/plain": [
       "\u001b[1mModel: \"sequential_3\"\u001b[0m\n"
      ]
     },
     "metadata": {},
     "output_type": "display_data"
    },
    {
     "data": {
      "text/html": [
       "<pre style=\"white-space:pre;overflow-x:auto;line-height:normal;font-family:Menlo,'DejaVu Sans Mono',consolas,'Courier New',monospace\">┏━━━━━━━━━━━━━━━━━━━━━━━━━━━━━━━━━━━━━━┳━━━━━━━━━━━━━━━━━━━━━━━━━━━━━┳━━━━━━━━━━━━━━━━━┓\n",
       "┃<span style=\"font-weight: bold\"> Layer (type)                         </span>┃<span style=\"font-weight: bold\"> Output Shape                </span>┃<span style=\"font-weight: bold\">         Param # </span>┃\n",
       "┡━━━━━━━━━━━━━━━━━━━━━━━━━━━━━━━━━━━━━━╇━━━━━━━━━━━━━━━━━━━━━━━━━━━━━╇━━━━━━━━━━━━━━━━━┩\n",
       "│ lstm_5 (<span style=\"color: #0087ff; text-decoration-color: #0087ff\">LSTM</span>)                        │ (<span style=\"color: #00d7ff; text-decoration-color: #00d7ff\">None</span>, <span style=\"color: #00af00; text-decoration-color: #00af00\">60</span>, <span style=\"color: #00af00; text-decoration-color: #00af00\">50</span>)              │          <span style=\"color: #00af00; text-decoration-color: #00af00\">10,400</span> │\n",
       "├──────────────────────────────────────┼─────────────────────────────┼─────────────────┤\n",
       "│ dropout_2 (<span style=\"color: #0087ff; text-decoration-color: #0087ff\">Dropout</span>)                  │ (<span style=\"color: #00d7ff; text-decoration-color: #00d7ff\">None</span>, <span style=\"color: #00af00; text-decoration-color: #00af00\">60</span>, <span style=\"color: #00af00; text-decoration-color: #00af00\">50</span>)              │               <span style=\"color: #00af00; text-decoration-color: #00af00\">0</span> │\n",
       "├──────────────────────────────────────┼─────────────────────────────┼─────────────────┤\n",
       "│ lstm_6 (<span style=\"color: #0087ff; text-decoration-color: #0087ff\">LSTM</span>)                        │ (<span style=\"color: #00d7ff; text-decoration-color: #00d7ff\">None</span>, <span style=\"color: #00af00; text-decoration-color: #00af00\">50</span>)                  │          <span style=\"color: #00af00; text-decoration-color: #00af00\">20,200</span> │\n",
       "├──────────────────────────────────────┼─────────────────────────────┼─────────────────┤\n",
       "│ dropout_3 (<span style=\"color: #0087ff; text-decoration-color: #0087ff\">Dropout</span>)                  │ (<span style=\"color: #00d7ff; text-decoration-color: #00d7ff\">None</span>, <span style=\"color: #00af00; text-decoration-color: #00af00\">50</span>)                  │               <span style=\"color: #00af00; text-decoration-color: #00af00\">0</span> │\n",
       "├──────────────────────────────────────┼─────────────────────────────┼─────────────────┤\n",
       "│ dense_4 (<span style=\"color: #0087ff; text-decoration-color: #0087ff\">Dense</span>)                      │ (<span style=\"color: #00d7ff; text-decoration-color: #00d7ff\">None</span>, <span style=\"color: #00af00; text-decoration-color: #00af00\">25</span>)                  │           <span style=\"color: #00af00; text-decoration-color: #00af00\">1,275</span> │\n",
       "├──────────────────────────────────────┼─────────────────────────────┼─────────────────┤\n",
       "│ dense_5 (<span style=\"color: #0087ff; text-decoration-color: #0087ff\">Dense</span>)                      │ (<span style=\"color: #00d7ff; text-decoration-color: #00d7ff\">None</span>, <span style=\"color: #00af00; text-decoration-color: #00af00\">1</span>)                   │              <span style=\"color: #00af00; text-decoration-color: #00af00\">26</span> │\n",
       "└──────────────────────────────────────┴─────────────────────────────┴─────────────────┘\n",
       "</pre>\n"
      ],
      "text/plain": [
       "┏━━━━━━━━━━━━━━━━━━━━━━━━━━━━━━━━━━━━━━┳━━━━━━━━━━━━━━━━━━━━━━━━━━━━━┳━━━━━━━━━━━━━━━━━┓\n",
       "┃\u001b[1m \u001b[0m\u001b[1mLayer (type)                        \u001b[0m\u001b[1m \u001b[0m┃\u001b[1m \u001b[0m\u001b[1mOutput Shape               \u001b[0m\u001b[1m \u001b[0m┃\u001b[1m \u001b[0m\u001b[1m        Param #\u001b[0m\u001b[1m \u001b[0m┃\n",
       "┡━━━━━━━━━━━━━━━━━━━━━━━━━━━━━━━━━━━━━━╇━━━━━━━━━━━━━━━━━━━━━━━━━━━━━╇━━━━━━━━━━━━━━━━━┩\n",
       "│ lstm_5 (\u001b[38;5;33mLSTM\u001b[0m)                        │ (\u001b[38;5;45mNone\u001b[0m, \u001b[38;5;34m60\u001b[0m, \u001b[38;5;34m50\u001b[0m)              │          \u001b[38;5;34m10,400\u001b[0m │\n",
       "├──────────────────────────────────────┼─────────────────────────────┼─────────────────┤\n",
       "│ dropout_2 (\u001b[38;5;33mDropout\u001b[0m)                  │ (\u001b[38;5;45mNone\u001b[0m, \u001b[38;5;34m60\u001b[0m, \u001b[38;5;34m50\u001b[0m)              │               \u001b[38;5;34m0\u001b[0m │\n",
       "├──────────────────────────────────────┼─────────────────────────────┼─────────────────┤\n",
       "│ lstm_6 (\u001b[38;5;33mLSTM\u001b[0m)                        │ (\u001b[38;5;45mNone\u001b[0m, \u001b[38;5;34m50\u001b[0m)                  │          \u001b[38;5;34m20,200\u001b[0m │\n",
       "├──────────────────────────────────────┼─────────────────────────────┼─────────────────┤\n",
       "│ dropout_3 (\u001b[38;5;33mDropout\u001b[0m)                  │ (\u001b[38;5;45mNone\u001b[0m, \u001b[38;5;34m50\u001b[0m)                  │               \u001b[38;5;34m0\u001b[0m │\n",
       "├──────────────────────────────────────┼─────────────────────────────┼─────────────────┤\n",
       "│ dense_4 (\u001b[38;5;33mDense\u001b[0m)                      │ (\u001b[38;5;45mNone\u001b[0m, \u001b[38;5;34m25\u001b[0m)                  │           \u001b[38;5;34m1,275\u001b[0m │\n",
       "├──────────────────────────────────────┼─────────────────────────────┼─────────────────┤\n",
       "│ dense_5 (\u001b[38;5;33mDense\u001b[0m)                      │ (\u001b[38;5;45mNone\u001b[0m, \u001b[38;5;34m1\u001b[0m)                   │              \u001b[38;5;34m26\u001b[0m │\n",
       "└──────────────────────────────────────┴─────────────────────────────┴─────────────────┘\n"
      ]
     },
     "metadata": {},
     "output_type": "display_data"
    },
    {
     "data": {
      "text/html": [
       "<pre style=\"white-space:pre;overflow-x:auto;line-height:normal;font-family:Menlo,'DejaVu Sans Mono',consolas,'Courier New',monospace\"><span style=\"font-weight: bold\"> Total params: </span><span style=\"color: #00af00; text-decoration-color: #00af00\">31,901</span> (124.61 KB)\n",
       "</pre>\n"
      ],
      "text/plain": [
       "\u001b[1m Total params: \u001b[0m\u001b[38;5;34m31,901\u001b[0m (124.61 KB)\n"
      ]
     },
     "metadata": {},
     "output_type": "display_data"
    },
    {
     "data": {
      "text/html": [
       "<pre style=\"white-space:pre;overflow-x:auto;line-height:normal;font-family:Menlo,'DejaVu Sans Mono',consolas,'Courier New',monospace\"><span style=\"font-weight: bold\"> Trainable params: </span><span style=\"color: #00af00; text-decoration-color: #00af00\">31,901</span> (124.61 KB)\n",
       "</pre>\n"
      ],
      "text/plain": [
       "\u001b[1m Trainable params: \u001b[0m\u001b[38;5;34m31,901\u001b[0m (124.61 KB)\n"
      ]
     },
     "metadata": {},
     "output_type": "display_data"
    },
    {
     "data": {
      "text/html": [
       "<pre style=\"white-space:pre;overflow-x:auto;line-height:normal;font-family:Menlo,'DejaVu Sans Mono',consolas,'Courier New',monospace\"><span style=\"font-weight: bold\"> Non-trainable params: </span><span style=\"color: #00af00; text-decoration-color: #00af00\">0</span> (0.00 B)\n",
       "</pre>\n"
      ],
      "text/plain": [
       "\u001b[1m Non-trainable params: \u001b[0m\u001b[38;5;34m0\u001b[0m (0.00 B)\n"
      ]
     },
     "metadata": {},
     "output_type": "display_data"
    }
   ],
   "source": [
    "# Build the LSTM model\n",
    "model = Sequential()\n",
    "model.add(LSTM(units=50, return_sequences=True, input_shape=(x_train.shape[1], 1)))\n",
    "model.add(Dropout(0.2))\n",
    "model.add(LSTM(units=50, return_sequences=False))\n",
    "model.add(Dropout(0.2))\n",
    "model.add(Dense(units=25))\n",
    "model.add(Dense(units=1))\n",
    "model.summary()"
   ]
  },
  {
   "cell_type": "code",
   "execution_count": 44,
   "id": "e09b0f7c-c144-4943-adee-d8f5f962e7bd",
   "metadata": {},
   "outputs": [],
   "source": [
    "# Compile the model\n",
    "model.compile(optimizer='adam', loss='mean_squared_error')"
   ]
  },
  {
   "cell_type": "code",
   "execution_count": 45,
   "id": "76f8e378-5060-4f95-b7cf-619136278b05",
   "metadata": {},
   "outputs": [
    {
     "name": "stdout",
     "output_type": "stream",
     "text": [
      "\u001b[1m136/136\u001b[0m \u001b[32m━━━━━━━━━━━━━━━━━━━━\u001b[0m\u001b[37m\u001b[0m \u001b[1m9s\u001b[0m 36ms/step - loss: 0.0420\n"
     ]
    },
    {
     "data": {
      "text/plain": [
       "<keras.src.callbacks.history.History at 0x1b69a8b6d50>"
      ]
     },
     "execution_count": 45,
     "metadata": {},
     "output_type": "execute_result"
    }
   ],
   "source": [
    "# Train the model\n",
    "model.fit(x_train, y_train, batch_size=1, epochs=1)"
   ]
  },
  {
   "cell_type": "code",
   "execution_count": 46,
   "id": "da065e6f-e5a5-4c44-924c-d4efbac9030f",
   "metadata": {},
   "outputs": [],
   "source": [
    "# Create the testing dataset\n",
    "test_data = scaled_data[training_data_len - 60:, :]\n",
    "x_test = []\n",
    "y_test = data[training_data_len:, :]\n",
    "\n",
    "for i in range(60, len(test_data)):\n",
    "    x_test.append(test_data[i-60:i, 0])\n",
    "\n",
    "# Convert the testing datasets to numpy arrays\n",
    "x_test = np.array(x_test)"
   ]
  },
  {
   "cell_type": "code",
   "execution_count": 47,
   "id": "ef2ae34b-5b2e-48ba-8af3-90d6d6b20df5",
   "metadata": {},
   "outputs": [
    {
     "name": "stdout",
     "output_type": "stream",
     "text": [
      "WARNING:tensorflow:5 out of the last 5 calls to <function TensorFlowTrainer.make_predict_function.<locals>.one_step_on_data_distributed at 0x000001B69AE80900> triggered tf.function retracing. Tracing is expensive and the excessive number of tracings could be due to (1) creating @tf.function repeatedly in a loop, (2) passing tensors with different shapes, (3) passing Python objects instead of tensors. For (1), please define your @tf.function outside of the loop. For (2), @tf.function has reduce_retracing=True option that can avoid unnecessary retracing. For (3), please refer to https://www.tensorflow.org/guide/function#controlling_retracing and https://www.tensorflow.org/api_docs/python/tf/function for  more details.\n",
      "\u001b[1m1/2\u001b[0m \u001b[32m━━━━━━━━━━\u001b[0m\u001b[37m━━━━━━━━━━\u001b[0m \u001b[1m0s\u001b[0m 503ms/stepWARNING:tensorflow:6 out of the last 6 calls to <function TensorFlowTrainer.make_predict_function.<locals>.one_step_on_data_distributed at 0x000001B69AE80900> triggered tf.function retracing. Tracing is expensive and the excessive number of tracings could be due to (1) creating @tf.function repeatedly in a loop, (2) passing tensors with different shapes, (3) passing Python objects instead of tensors. For (1), please define your @tf.function outside of the loop. For (2), @tf.function has reduce_retracing=True option that can avoid unnecessary retracing. For (3), please refer to https://www.tensorflow.org/guide/function#controlling_retracing and https://www.tensorflow.org/api_docs/python/tf/function for  more details.\n",
      "\u001b[1m2/2\u001b[0m \u001b[32m━━━━━━━━━━━━━━━━━━━━\u001b[0m\u001b[37m\u001b[0m \u001b[1m1s\u001b[0m 508ms/step\n"
     ]
    }
   ],
   "source": [
    "# Reshape the data to be 3-dimensional for LSTM input\n",
    "x_test = np.reshape(x_test, (x_test.shape[0], x_test.shape[1], 1))\n",
    "\n",
    "# Get the model's predicted prices\n",
    "predictions = model.predict(x_test)\n",
    "predictions = scaler.inverse_transform(predictions)"
   ]
  },
  {
   "cell_type": "code",
   "execution_count": null,
   "id": "e21ec6a9-6025-41d9-b440-e6d7ec7d61dc",
   "metadata": {},
   "outputs": [],
   "source": []
  },
  {
   "cell_type": "code",
   "execution_count": 48,
   "id": "b6e04608-eb17-44df-8fc5-294a8db09f61",
   "metadata": {},
   "outputs": [
    {
     "name": "stdout",
     "output_type": "stream",
     "text": [
      "RMSE: 8.15149514803912\n",
      "MAE: 7.722328341737086\n"
     ]
    }
   ],
   "source": [
    "from sklearn.metrics import mean_squared_error, mean_absolute_error\n",
    "import math\n",
    "# Evaluating the model\n",
    "rmse = np.sqrt(mean_squared_error(y_test, predictions))\n",
    "mae = mean_absolute_error(y_test, predictions)\n",
    "print(f'RMSE: {rmse}')\n",
    "print(f'MAE: {mae}')"
   ]
  },
  {
   "cell_type": "code",
   "execution_count": 49,
   "id": "2c3e3d28-b8cf-48dd-ac58-51754dbc03bd",
   "metadata": {},
   "outputs": [
    {
     "name": "stderr",
     "output_type": "stream",
     "text": [
      "C:\\Users\\Abhishek_Jaiswal\\AppData\\Local\\Temp\\ipykernel_30932\\3983594056.py:3: SettingWithCopyWarning:\n",
      "\n",
      "\n",
      "A value is trying to be set on a copy of a slice from a DataFrame.\n",
      "Try using .loc[row_indexer,col_indexer] = value instead\n",
      "\n",
      "See the caveats in the documentation: https://pandas.pydata.org/pandas-docs/stable/user_guide/indexing.html#returning-a-view-versus-a-copy\n",
      "\n"
     ]
    }
   ],
   "source": [
    "train = df[:training_data_len]\n",
    "valid = df[training_data_len:]\n",
    "valid['Predictions'] = predictions"
   ]
  },
  {
   "cell_type": "code",
   "execution_count": 50,
   "id": "89b4e616-3a1b-48ab-a6c2-ca08c7fbb941",
   "metadata": {},
   "outputs": [
    {
     "data": {
      "image/png": "[encoded data removed]",
      "text/plain": [
       "<Figure size 1600x800 with 1 Axes>"
      ]
     },
     "metadata": {},
     "output_type": "display_data"
    }
   ],
   "source": [
    "# Plot the data\n",
    "plt.figure(figsize=(16, 8))\n",
    "plt.title('Model')\n",
    "plt.xlabel('Date')\n",
    "plt.ylabel('Close Price USD ($)')\n",
    "plt.plot(train['Close'])\n",
    "plt.plot(valid[['Close', 'Predictions']])\n",
    "plt.legend(['Train', 'Val', 'Predictions'], loc='lower right')\n",
    "plt.show()"
   ]
  },
  {
   "cell_type": "code",
   "execution_count": null,
   "id": "3849bc66-7a8e-4d45-94d2-ee50016dd349",
   "metadata": {},
   "outputs": [],
   "source": []
  },
  {
   "cell_type": "markdown",
   "id": "a0bcaa0f-d084-4f32-9b05-3932496dfb94",
   "metadata": {},
   "source": [
    "# LLM"
   ]
  },
  {
   "cell_type": "code",
   "execution_count": 63,
   "id": "69e633eb-fc13-433d-8717-90900c5c1577",
   "metadata": {},
   "outputs": [],
   "source": [
    "#https://github.com/amazon-science/chronos-forecasting\n",
    "#https://github.com/amazon-science/chronos-forecasting\n",
    "#pip install git+https://github.com/amazon-science/chronos-forecasting.git\n",
    "#conda install pytorch torchvision torchaudio cudatoolkit=10.2 -c pytorch"
   ]
  },
  {
   "cell_type": "code",
   "execution_count": 106,
   "id": "d2d1290a-62f1-40f1-9d5b-a8c2e55d5857",
   "metadata": {},
   "outputs": [
    {
     "data": {
      "text/html": [
       "<div>\n",
       "<style scoped>\n",
       "    .dataframe tbody tr th:only-of-type {\n",
       "        vertical-align: middle;\n",
       "    }\n",
       "\n",
       "    .dataframe tbody tr th {\n",
       "        vertical-align: top;\n",
       "    }\n",
       "\n",
       "    .dataframe thead th {\n",
       "        text-align: right;\n",
       "    }\n",
       "</style>\n",
       "<table border=\"1\" class=\"dataframe\">\n",
       "  <thead>\n",
       "    <tr style=\"text-align: right;\">\n",
       "      <th></th>\n",
       "      <th>Date</th>\n",
       "      <th>Ticker</th>\n",
       "      <th>Open</th>\n",
       "      <th>High</th>\n",
       "      <th>Low</th>\n",
       "      <th>Close</th>\n",
       "      <th>Volume</th>\n",
       "      <th>Sector</th>\n",
       "    </tr>\n",
       "  </thead>\n",
       "  <tbody>\n",
       "    <tr>\n",
       "      <th>240</th>\n",
       "      <td>2024-07-22</td>\n",
       "      <td>SUZLON</td>\n",
       "      <td>54.660000</td>\n",
       "      <td>55.439999</td>\n",
       "      <td>53.500000</td>\n",
       "      <td>55.080002</td>\n",
       "      <td>47805246</td>\n",
       "      <td>Specialty Industrial Machinery</td>\n",
       "    </tr>\n",
       "    <tr>\n",
       "      <th>241</th>\n",
       "      <td>2024-07-23</td>\n",
       "      <td>SUZLON</td>\n",
       "      <td>57.200001</td>\n",
       "      <td>57.830002</td>\n",
       "      <td>54.000000</td>\n",
       "      <td>57.830002</td>\n",
       "      <td>281887693</td>\n",
       "      <td>Specialty Industrial Machinery</td>\n",
       "    </tr>\n",
       "    <tr>\n",
       "      <th>242</th>\n",
       "      <td>2024-07-24</td>\n",
       "      <td>SUZLON</td>\n",
       "      <td>59.700001</td>\n",
       "      <td>60.720001</td>\n",
       "      <td>59.630001</td>\n",
       "      <td>60.720001</td>\n",
       "      <td>90757700</td>\n",
       "      <td>Specialty Industrial Machinery</td>\n",
       "    </tr>\n",
       "    <tr>\n",
       "      <th>243</th>\n",
       "      <td>2024-07-25</td>\n",
       "      <td>SUZLON</td>\n",
       "      <td>62.290001</td>\n",
       "      <td>63.750000</td>\n",
       "      <td>60.799999</td>\n",
       "      <td>61.470001</td>\n",
       "      <td>170325709</td>\n",
       "      <td>Specialty Industrial Machinery</td>\n",
       "    </tr>\n",
       "    <tr>\n",
       "      <th>244</th>\n",
       "      <td>2024-07-26</td>\n",
       "      <td>SUZLON</td>\n",
       "      <td>62.680000</td>\n",
       "      <td>63.000000</td>\n",
       "      <td>61.000000</td>\n",
       "      <td>61.889999</td>\n",
       "      <td>67858407</td>\n",
       "      <td>Specialty Industrial Machinery</td>\n",
       "    </tr>\n",
       "  </tbody>\n",
       "</table>\n",
       "</div>"
      ],
      "text/plain": [
       "           Date  Ticker       Open       High        Low      Close  \\\n",
       "240  2024-07-22  SUZLON  54.660000  55.439999  53.500000  55.080002   \n",
       "241  2024-07-23  SUZLON  57.200001  57.830002  54.000000  57.830002   \n",
       "242  2024-07-24  SUZLON  59.700001  60.720001  59.630001  60.720001   \n",
       "243  2024-07-25  SUZLON  62.290001  63.750000  60.799999  61.470001   \n",
       "244  2024-07-26  SUZLON  62.680000  63.000000  61.000000  61.889999   \n",
       "\n",
       "        Volume                          Sector  \n",
       "240   47805246  Specialty Industrial Machinery  \n",
       "241  281887693  Specialty Industrial Machinery  \n",
       "242   90757700  Specialty Industrial Machinery  \n",
       "243  170325709  Specialty Industrial Machinery  \n",
       "244   67858407  Specialty Industrial Machinery  "
      ]
     },
     "execution_count": 106,
     "metadata": {},
     "output_type": "execute_result"
    }
   ],
   "source": [
    "df = stock_data_df[(stock_data_df.Ticker=='SUZLON')].reset_index(drop=True)\n",
    "# Convert 'datetime_column' to datetime type\n",
    "df['Date'] = df['Date'].dt.date\n",
    "df.tail()"
   ]
  },
  {
   "cell_type": "code",
   "execution_count": 119,
   "id": "bb78364f-b9c7-4ad3-85fd-1f43737f2d77",
   "metadata": {},
   "outputs": [
    {
     "name": "stdout",
     "output_type": "stream",
     "text": [
      "Input TS Before :  (245, 8)\n",
      "Input TS After:  (239, 8)\n"
     ]
    },
    {
     "data": {
      "image/png": "[encoded data removed]",
      "text/plain": [
       "<Figure size 800x400 with 1 Axes>"
      ]
     },
     "metadata": {},
     "output_type": "display_data"
    }
   ],
   "source": [
    "import matplotlib.pyplot as plt\n",
    "import numpy as np\n",
    "import pandas as pd\n",
    "import torch\n",
    "from chronos import ChronosPipeline\n",
    "\n",
    "pipeline = ChronosPipeline.from_pretrained(\n",
    "  \"amazon/chronos-t5-base\",   #chronos-t5-base, chronos-t5-tiny\n",
    "  device_map=\"cpu\",\n",
    "  torch_dtype=torch.bfloat16,\n",
    ")\n",
    "\n",
    "\n",
    "\n",
    "df = stock_data_df[(stock_data_df.Ticker=='SUZLON')].reset_index(drop=True)\n",
    "# Convert 'datetime_column' to datetime type\n",
    "df['Date'] = df['Date'].dt.date\n",
    "print(\"Input TS Before : \",df.shape)\n",
    "df = df.head(239)\n",
    "print(\"Input TS After: \",df.shape)\n",
    "\n",
    "# context must be either a 1D tensor, a list of 1D tensors,\n",
    "# or a left-padded 2D tensor with batch as the first dimension\n",
    "context = torch.tensor(df[\"Close\"])\n",
    "prediction_length = 6\n",
    "forecast = pipeline.predict(context, prediction_length)  # shape [num_series, num_samples, prediction_length]\n",
    "\n",
    "# visualize the forecast\n",
    "forecast_index = range(len(df), len(df) + prediction_length)\n",
    "pred , low, median, high = np.quantile(forecast[0].numpy(), [0 , 0.05, 0.5, 0.95], axis=0)\n",
    "\n",
    "# Create a DataFrame with the forecast data\n",
    "df_forecast = pd.DataFrame({\n",
    "    'Predicted': pred,\n",
    "    'Low': low,\n",
    "    'Median': median,\n",
    "    'High': high\n",
    "})\n",
    "\n",
    "plt.figure(figsize=(8, 4))\n",
    "plt.plot(df[\"Close\"], color=\"royalblue\", label=\"historical data\")\n",
    "plt.plot(forecast_index, median, color=\"tomato\", label=\"median forecast\")\n",
    "plt.fill_between(forecast_index, low, high, color=\"tomato\", alpha=0.3, label=\"80% prediction interval\")\n",
    "plt.legend()\n",
    "plt.grid()\n",
    "plt.show()"
   ]
  },
  {
   "cell_type": "code",
   "execution_count": 120,
   "id": "f2e78cdb-8a91-4084-8331-5b9f3dc28a0f",
   "metadata": {},
   "outputs": [
    {
     "data": {
      "text/html": [
       "<div>\n",
       "<style scoped>\n",
       "    .dataframe tbody tr th:only-of-type {\n",
       "        vertical-align: middle;\n",
       "    }\n",
       "\n",
       "    .dataframe tbody tr th {\n",
       "        vertical-align: top;\n",
       "    }\n",
       "\n",
       "    .dataframe thead th {\n",
       "        text-align: right;\n",
       "    }\n",
       "</style>\n",
       "<table border=\"1\" class=\"dataframe\">\n",
       "  <thead>\n",
       "    <tr style=\"text-align: right;\">\n",
       "      <th></th>\n",
       "      <th>Date</th>\n",
       "      <th>Close</th>\n",
       "    </tr>\n",
       "  </thead>\n",
       "  <tbody>\n",
       "    <tr>\n",
       "      <th>239</th>\n",
       "      <td>2024-07-19</td>\n",
       "      <td>54.549999</td>\n",
       "    </tr>\n",
       "    <tr>\n",
       "      <th>240</th>\n",
       "      <td>2024-07-22</td>\n",
       "      <td>55.080002</td>\n",
       "    </tr>\n",
       "    <tr>\n",
       "      <th>241</th>\n",
       "      <td>2024-07-23</td>\n",
       "      <td>57.830002</td>\n",
       "    </tr>\n",
       "    <tr>\n",
       "      <th>242</th>\n",
       "      <td>2024-07-24</td>\n",
       "      <td>60.720001</td>\n",
       "    </tr>\n",
       "    <tr>\n",
       "      <th>243</th>\n",
       "      <td>2024-07-25</td>\n",
       "      <td>61.470001</td>\n",
       "    </tr>\n",
       "    <tr>\n",
       "      <th>244</th>\n",
       "      <td>2024-07-26</td>\n",
       "      <td>61.889999</td>\n",
       "    </tr>\n",
       "  </tbody>\n",
       "</table>\n",
       "</div>"
      ],
      "text/plain": [
       "           Date      Close\n",
       "239  2024-07-19  54.549999\n",
       "240  2024-07-22  55.080002\n",
       "241  2024-07-23  57.830002\n",
       "242  2024-07-24  60.720001\n",
       "243  2024-07-25  61.470001\n",
       "244  2024-07-26  61.889999"
      ]
     },
     "execution_count": 120,
     "metadata": {},
     "output_type": "execute_result"
    }
   ],
   "source": [
    "# Actual:\n",
    "df2 = stock_data_df[(stock_data_df.Ticker=='SUZLON')].reset_index(drop=True)\n",
    "df2['Date'] = df2['Date'].dt.date\n",
    "df2[['Date','Close']].tail(6)"
   ]
  },
  {
   "cell_type": "code",
   "execution_count": 121,
   "id": "b0bebd13-0e74-48fd-99da-d6150da763c5",
   "metadata": {},
   "outputs": [
    {
     "data": {
      "text/html": [
       "<div>\n",
       "<style scoped>\n",
       "    .dataframe tbody tr th:only-of-type {\n",
       "        vertical-align: middle;\n",
       "    }\n",
       "\n",
       "    .dataframe tbody tr th {\n",
       "        vertical-align: top;\n",
       "    }\n",
       "\n",
       "    .dataframe thead th {\n",
       "        text-align: right;\n",
       "    }\n",
       "</style>\n",
       "<table border=\"1\" class=\"dataframe\">\n",
       "  <thead>\n",
       "    <tr style=\"text-align: right;\">\n",
       "      <th></th>\n",
       "      <th>Predicted</th>\n",
       "      <th>Low</th>\n",
       "      <th>Median</th>\n",
       "      <th>High</th>\n",
       "    </tr>\n",
       "  </thead>\n",
       "  <tbody>\n",
       "    <tr>\n",
       "      <th>0</th>\n",
       "      <td>53.885494</td>\n",
       "      <td>54.415973</td>\n",
       "      <td>55.281472</td>\n",
       "      <td>57.040463</td>\n",
       "    </tr>\n",
       "    <tr>\n",
       "      <th>1</th>\n",
       "      <td>51.931082</td>\n",
       "      <td>53.257295</td>\n",
       "      <td>55.281472</td>\n",
       "      <td>58.645858</td>\n",
       "    </tr>\n",
       "    <tr>\n",
       "      <th>2</th>\n",
       "      <td>51.651901</td>\n",
       "      <td>52.447601</td>\n",
       "      <td>55.421081</td>\n",
       "      <td>59.944135</td>\n",
       "    </tr>\n",
       "    <tr>\n",
       "      <th>3</th>\n",
       "      <td>50.535104</td>\n",
       "      <td>50.800326</td>\n",
       "      <td>55.839889</td>\n",
       "      <td>63.964585</td>\n",
       "    </tr>\n",
       "    <tr>\n",
       "      <th>4</th>\n",
       "      <td>51.931082</td>\n",
       "      <td>51.931082</td>\n",
       "      <td>55.560690</td>\n",
       "      <td>65.891077</td>\n",
       "    </tr>\n",
       "    <tr>\n",
       "      <th>5</th>\n",
       "      <td>51.931082</td>\n",
       "      <td>52.726817</td>\n",
       "      <td>55.560690</td>\n",
       "      <td>65.737500</td>\n",
       "    </tr>\n",
       "  </tbody>\n",
       "</table>\n",
       "</div>"
      ],
      "text/plain": [
       "   Predicted        Low     Median       High\n",
       "0  53.885494  54.415973  55.281472  57.040463\n",
       "1  51.931082  53.257295  55.281472  58.645858\n",
       "2  51.651901  52.447601  55.421081  59.944135\n",
       "3  50.535104  50.800326  55.839889  63.964585\n",
       "4  51.931082  51.931082  55.560690  65.891077\n",
       "5  51.931082  52.726817  55.560690  65.737500"
      ]
     },
     "execution_count": 121,
     "metadata": {},
     "output_type": "execute_result"
    }
   ],
   "source": [
    "#Predicted\n",
    "df_forecast"
   ]
  },
  {
   "cell_type": "code",
   "execution_count": 115,
   "id": "01f85c16-abd2-4184-8a3e-1154f924a66a",
   "metadata": {},
   "outputs": [
    {
     "data": {
      "image/png": "[encoded data removed]",
      "text/plain": [
       "<Figure size 2000x1000 with 1 Axes>"
      ]
     },
     "metadata": {},
     "output_type": "display_data"
    }
   ],
   "source": [
    "# Extract quantiles for the forecast\n",
    "low, median, high = np.quantile(forecast[0].numpy(), [0.05, 0.5, 0.95], axis=0)\n",
    "\n",
    "# Generate forecast index based on df's length\n",
    "forecast_index = np.arange(len(df), len(df) + prediction_length)\n",
    "\n",
    "plt.figure(figsize=(20, 10))\n",
    "plt.plot(df[\"Close\"], color=\"royalblue\", label=\"Historical data\")\n",
    "plt.plot(forecast_index, median, color=\"tomato\", label=\"Median forecast\")\n",
    "plt.fill_between(forecast_index, low, high, color=\"tomato\", alpha=0.3, label=\"80% prediction interval\")\n",
    "\n",
    "# Annotate historical data\n",
    "for i, value in enumerate(df[\"Close\"]):\n",
    "    plt.text(i, value, f\"{value:.2f}\", fontsize=10, ha='center', va='bottom', color='blue')\n",
    "\n",
    "# Annotate median forecast data\n",
    "for i, (x, value) in enumerate(zip(forecast_index, median)):\n",
    "    plt.text(x, value, f\"{value:.2f}\", fontsize=10, ha='center', va='bottom', color='red')\n",
    "\n",
    "plt.legend()\n",
    "plt.grid()\n",
    "plt.show()"
   ]
  },
  {
   "cell_type": "code",
   "execution_count": 122,
   "id": "e1da3d9e",
   "metadata": {},
   "outputs": [],
   "source": [
    "#LLM\n",
    "#https://huggingface.co/google/timesfm-1.0-200m"
   ]
  },
  {
   "cell_type": "markdown",
   "id": "aaa3da10",
   "metadata": {},
   "source": [
    "# Trend Chart"
   ]
  },
  {
   "cell_type": "code",
   "execution_count": 60,
   "id": "d986f47f",
   "metadata": {},
   "outputs": [
    {
     "data": {
      "application/vnd.plotly.v1+json": {
       "config": {
        "plotlyServerURL": "https://plot.ly"
       },
       "data": [
        {
         "close": [
          52.93000030517578,
          53.029998779296875,
          53.529998779296875,
          54.029998779296875,
          55.4900016784668,
          55.20000076293945,
          55.369998931884766,
          54.88999938964844,
          54.720001220703125,
          54.630001068115234,
          54.619998931884766,
          55.880001068115234,
          55.38999938964844,
          54.54999923706055,
          55.08000183105469,
          57.83000183105469,
          60.720001220703125,
          61.470001220703125,
          61.88999938964844
         ],
         "high": [
          53.279998779296875,
          53.380001068115234,
          53.95000076293945,
          55.66999816894531,
          56.4900016784668,
          56,
          55.84000015258789,
          56,
          55,
          55.43000030517578,
          55,
          56,
          55.720001220703125,
          55.869998931884766,
          55.439998626708984,
          57.83000183105469,
          60.720001220703125,
          63.75,
          63
         ],
         "low": [
          52.59000015258789,
          52.43000030517578,
          53,
          53.369998931884766,
          53.79999923706055,
          54.5,
          53.86000061035156,
          53.900001525878906,
          54.20000076293945,
          53.650001525878906,
          54.02000045776367,
          54.43000030517578,
          53.81999969482422,
          53.81999969482422,
          53.5,
          54,
          59.630001068115234,
          60.79999923706055,
          61
         ],
         "name": "Candlestick",
         "open": [
          53.20000076293945,
          53,
          53.099998474121094,
          53.599998474121094,
          54.369998931884766,
          55.95000076293945,
          55.29999923706055,
          55.66999816894531,
          55,
          55,
          55,
          54.900001525878906,
          55.5,
          55.380001068115234,
          54.65999984741211,
          57.20000076293945,
          59.70000076293945,
          62.290000915527344,
          62.68000030517578
         ],
         "type": "candlestick",
         "x": [
          "2024-07-01T00:00:00+05:30",
          "2024-07-02T00:00:00+05:30",
          "2024-07-03T00:00:00+05:30",
          "2024-07-04T00:00:00+05:30",
          "2024-07-05T00:00:00+05:30",
          "2024-07-08T00:00:00+05:30",
          "2024-07-09T00:00:00+05:30",
          "2024-07-10T00:00:00+05:30",
          "2024-07-11T00:00:00+05:30",
          "2024-07-12T00:00:00+05:30",
          "2024-07-15T00:00:00+05:30",
          "2024-07-16T00:00:00+05:30",
          "2024-07-18T00:00:00+05:30",
          "2024-07-19T00:00:00+05:30",
          "2024-07-22T00:00:00+05:30",
          "2024-07-23T00:00:00+05:30",
          "2024-07-24T00:00:00+05:30",
          "2024-07-25T00:00:00+05:30",
          "2024-07-26T00:00:00+05:30"
         ]
        },
        {
         "marker": {
          "color": "green",
          "size": 10,
          "symbol": "triangle-up"
         },
         "mode": "markers",
         "name": "Higher High",
         "type": "scatter",
         "x": [
          "2024-07-03T00:00:00+05:30"
         ],
         "y": [
          53.95000076293945
         ]
        },
        {
         "marker": {
          "color": "green",
          "size": 10,
          "symbol": "triangle-up"
         },
         "mode": "markers",
         "name": "Higher High",
         "type": "scatter",
         "x": [
          "2024-07-04T00:00:00+05:30"
         ],
         "y": [
          55.66999816894531
         ]
        },
        {
         "marker": {
          "color": "green",
          "size": 10,
          "symbol": "triangle-up"
         },
         "mode": "markers",
         "name": "Higher High",
         "type": "scatter",
         "x": [
          "2024-07-05T00:00:00+05:30"
         ],
         "y": [
          56.4900016784668
         ]
        },
        {
         "marker": {
          "color": "red",
          "size": 10,
          "symbol": "triangle-down"
         },
         "mode": "markers",
         "name": "Lower Low",
         "type": "scatter",
         "x": [
          "2024-07-09T00:00:00+05:30"
         ],
         "y": [
          53.86000061035156
         ]
        },
        {
         "marker": {
          "color": "green",
          "size": 10,
          "symbol": "triangle-up"
         },
         "mode": "markers",
         "name": "Higher High",
         "type": "scatter",
         "x": [
          "2024-07-10T00:00:00+05:30"
         ],
         "y": [
          56
         ]
        },
        {
         "marker": {
          "color": "green",
          "size": 10,
          "symbol": "triangle-up"
         },
         "mode": "markers",
         "name": "Higher High",
         "type": "scatter",
         "x": [
          "2024-07-16T00:00:00+05:30"
         ],
         "y": [
          56
         ]
        },
        {
         "marker": {
          "color": "red",
          "size": 10,
          "symbol": "triangle-down"
         },
         "mode": "markers",
         "name": "Lower Low",
         "type": "scatter",
         "x": [
          "2024-07-18T00:00:00+05:30"
         ],
         "y": [
          53.81999969482422
         ]
        },
        {
         "marker": {
          "color": "red",
          "size": 10,
          "symbol": "triangle-down"
         },
         "mode": "markers",
         "name": "Lower Low",
         "type": "scatter",
         "x": [
          "2024-07-22T00:00:00+05:30"
         ],
         "y": [
          53.5
         ]
        },
        {
         "marker": {
          "color": "green",
          "size": 10,
          "symbol": "triangle-up"
         },
         "mode": "markers",
         "name": "Higher High",
         "type": "scatter",
         "x": [
          "2024-07-23T00:00:00+05:30"
         ],
         "y": [
          57.83000183105469
         ]
        },
        {
         "marker": {
          "color": "green",
          "size": 10,
          "symbol": "triangle-up"
         },
         "mode": "markers",
         "name": "Higher High",
         "type": "scatter",
         "x": [
          "2024-07-24T00:00:00+05:30"
         ],
         "y": [
          60.720001220703125
         ]
        },
        {
         "marker": {
          "color": "green",
          "size": 10,
          "symbol": "triangle-up"
         },
         "mode": "markers",
         "name": "Higher High",
         "type": "scatter",
         "x": [
          "2024-07-25T00:00:00+05:30"
         ],
         "y": [
          63.75
         ]
        }
       ],
       "layout": {
        "template": {
         "data": {
          "bar": [
           {
            "error_x": {
             "color": "#f2f5fa"
            },
            "error_y": {
             "color": "#f2f5fa"
            },
            "marker": {
             "line": {
              "color": "rgb(17,17,17)",
              "width": 0.5
             },
             "pattern": {
              "fillmode": "overlay",
              "size": 10,
              "solidity": 0.2
             }
            },
            "type": "bar"
           }
          ],
          "barpolar": [
           {
            "marker": {
             "line": {
              "color": "rgb(17,17,17)",
              "width": 0.5
             },
             "pattern": {
              "fillmode": "overlay",
              "size": 10,
              "solidity": 0.2
             }
            },
            "type": "barpolar"
           }
          ],
          "carpet": [
           {
            "aaxis": {
             "endlinecolor": "#A2B1C6",
             "gridcolor": "#506784",
             "linecolor": "#506784",
             "minorgridcolor": "#506784",
             "startlinecolor": "#A2B1C6"
            },
            "baxis": {
             "endlinecolor": "#A2B1C6",
             "gridcolor": "#506784",
             "linecolor": "#506784",
             "minorgridcolor": "#506784",
             "startlinecolor": "#A2B1C6"
            },
            "type": "carpet"
           }
          ],
          "choropleth": [
           {
            "colorbar": {
             "outlinewidth": 0,
             "ticks": ""
            },
            "type": "choropleth"
           }
          ],
          "contour": [
           {
            "colorbar": {
             "outlinewidth": 0,
             "ticks": ""
            },
            "colorscale": [
             [
              0,
              "#0d0887"
             ],
             [
              0.1111111111111111,
              "#46039f"
             ],
             [
              0.2222222222222222,
              "#7201a8"
             ],
             [
              0.3333333333333333,
              "#9c179e"
             ],
             [
              0.4444444444444444,
              "#bd3786"
             ],
             [
              0.5555555555555556,
              "#d8576b"
             ],
             [
              0.6666666666666666,
              "#ed7953"
             ],
             [
              0.7777777777777778,
              "#fb9f3a"
             ],
             [
              0.8888888888888888,
              "#fdca26"
             ],
             [
              1,
              "#f0f921"
             ]
            ],
            "type": "contour"
           }
          ],
          "contourcarpet": [
           {
            "colorbar": {
             "outlinewidth": 0,
             "ticks": ""
            },
            "type": "contourcarpet"
           }
          ],
          "heatmap": [
           {
            "colorbar": {
             "outlinewidth": 0,
             "ticks": ""
            },
            "colorscale": [
             [
              0,
              "#0d0887"
             ],
             [
              0.1111111111111111,
              "#46039f"
             ],
             [
              0.2222222222222222,
              "#7201a8"
             ],
             [
              0.3333333333333333,
              "#9c179e"
             ],
             [
              0.4444444444444444,
              "#bd3786"
             ],
             [
              0.5555555555555556,
              "#d8576b"
             ],
             [
              0.6666666666666666,
              "#ed7953"
             ],
             [
              0.7777777777777778,
              "#fb9f3a"
             ],
             [
              0.8888888888888888,
              "#fdca26"
             ],
             [
              1,
              "#f0f921"
             ]
            ],
            "type": "heatmap"
           }
          ],
          "heatmapgl": [
           {
            "colorbar": {
             "outlinewidth": 0,
             "ticks": ""
            },
            "colorscale": [
             [
              0,
              "#0d0887"
             ],
             [
              0.1111111111111111,
              "#46039f"
             ],
             [
              0.2222222222222222,
              "#7201a8"
             ],
             [
              0.3333333333333333,
              "#9c179e"
             ],
             [
              0.4444444444444444,
              "#bd3786"
             ],
             [
              0.5555555555555556,
              "#d8576b"
             ],
             [
              0.6666666666666666,
              "#ed7953"
             ],
             [
              0.7777777777777778,
              "#fb9f3a"
             ],
             [
              0.8888888888888888,
              "#fdca26"
             ],
             [
              1,
              "#f0f921"
             ]
            ],
            "type": "heatmapgl"
           }
          ],
          "histogram": [
           {
            "marker": {
             "pattern": {
              "fillmode": "overlay",
              "size": 10,
              "solidity": 0.2
             }
            },
            "type": "histogram"
           }
          ],
          "histogram2d": [
           {
            "colorbar": {
             "outlinewidth": 0,
             "ticks": ""
            },
            "colorscale": [
             [
              0,
              "#0d0887"
             ],
             [
              0.1111111111111111,
              "#46039f"
             ],
             [
              0.2222222222222222,
              "#7201a8"
             ],
             [
              0.3333333333333333,
              "#9c179e"
             ],
             [
              0.4444444444444444,
              "#bd3786"
             ],
             [
              0.5555555555555556,
              "#d8576b"
             ],
             [
              0.6666666666666666,
              "#ed7953"
             ],
             [
              0.7777777777777778,
              "#fb9f3a"
             ],
             [
              0.8888888888888888,
              "#fdca26"
             ],
             [
              1,
              "#f0f921"
             ]
            ],
            "type": "histogram2d"
           }
          ],
          "histogram2dcontour": [
           {
            "colorbar": {
             "outlinewidth": 0,
             "ticks": ""
            },
            "colorscale": [
             [
              0,
              "#0d0887"
             ],
             [
              0.1111111111111111,
              "#46039f"
             ],
             [
              0.2222222222222222,
              "#7201a8"
             ],
             [
              0.3333333333333333,
              "#9c179e"
             ],
             [
              0.4444444444444444,
              "#bd3786"
             ],
             [
              0.5555555555555556,
              "#d8576b"
             ],
             [
              0.6666666666666666,
              "#ed7953"
             ],
             [
              0.7777777777777778,
              "#fb9f3a"
             ],
             [
              0.8888888888888888,
              "#fdca26"
             ],
             [
              1,
              "#f0f921"
             ]
            ],
            "type": "histogram2dcontour"
           }
          ],
          "mesh3d": [
           {
            "colorbar": {
             "outlinewidth": 0,
             "ticks": ""
            },
            "type": "mesh3d"
           }
          ],
          "parcoords": [
           {
            "line": {
             "colorbar": {
              "outlinewidth": 0,
              "ticks": ""
             }
            },
            "type": "parcoords"
           }
          ],
          "pie": [
           {
            "automargin": true,
            "type": "pie"
           }
          ],
          "scatter": [
           {
            "marker": {
             "line": {
              "color": "#283442"
             }
            },
            "type": "scatter"
           }
          ],
          "scatter3d": [
           {
            "line": {
             "colorbar": {
              "outlinewidth": 0,
              "ticks": ""
             }
            },
            "marker": {
             "colorbar": {
              "outlinewidth": 0,
              "ticks": ""
             }
            },
            "type": "scatter3d"
           }
          ],
          "scattercarpet": [
           {
            "marker": {
             "colorbar": {
              "outlinewidth": 0,
              "ticks": ""
             }
            },
            "type": "scattercarpet"
           }
          ],
          "scattergeo": [
           {
            "marker": {
             "colorbar": {
              "outlinewidth": 0,
              "ticks": ""
             }
            },
            "type": "scattergeo"
           }
          ],
          "scattergl": [
           {
            "marker": {
             "line": {
              "color": "#283442"
             }
            },
            "type": "scattergl"
           }
          ],
          "scattermapbox": [
           {
            "marker": {
             "colorbar": {
              "outlinewidth": 0,
              "ticks": ""
             }
            },
            "type": "scattermapbox"
           }
          ],
          "scatterpolar": [
           {
            "marker": {
             "colorbar": {
              "outlinewidth": 0,
              "ticks": ""
             }
            },
            "type": "scatterpolar"
           }
          ],
          "scatterpolargl": [
           {
            "marker": {
             "colorbar": {
              "outlinewidth": 0,
              "ticks": ""
             }
            },
            "type": "scatterpolargl"
           }
          ],
          "scatterternary": [
           {
            "marker": {
             "colorbar": {
              "outlinewidth": 0,
              "ticks": ""
             }
            },
            "type": "scatterternary"
           }
          ],
          "surface": [
           {
            "colorbar": {
             "outlinewidth": 0,
             "ticks": ""
            },
            "colorscale": [
             [
              0,
              "#0d0887"
             ],
             [
              0.1111111111111111,
              "#46039f"
             ],
             [
              0.2222222222222222,
              "#7201a8"
             ],
             [
              0.3333333333333333,
              "#9c179e"
             ],
             [
              0.4444444444444444,
              "#bd3786"
             ],
             [
              0.5555555555555556,
              "#d8576b"
             ],
             [
              0.6666666666666666,
              "#ed7953"
             ],
             [
              0.7777777777777778,
              "#fb9f3a"
             ],
             [
              0.8888888888888888,
              "#fdca26"
             ],
             [
              1,
              "#f0f921"
             ]
            ],
            "type": "surface"
           }
          ],
          "table": [
           {
            "cells": {
             "fill": {
              "color": "#506784"
             },
             "line": {
              "color": "rgb(17,17,17)"
             }
            },
            "header": {
             "fill": {
              "color": "#2a3f5f"
             },
             "line": {
              "color": "rgb(17,17,17)"
             }
            },
            "type": "table"
           }
          ]
         },
         "layout": {
          "annotationdefaults": {
           "arrowcolor": "#f2f5fa",
           "arrowhead": 0,
           "arrowwidth": 1
          },
          "autotypenumbers": "strict",
          "coloraxis": {
           "colorbar": {
            "outlinewidth": 0,
            "ticks": ""
           }
          },
          "colorscale": {
           "diverging": [
            [
             0,
             "#8e0152"
            ],
            [
             0.1,
             "#c51b7d"
            ],
            [
             0.2,
             "#de77ae"
            ],
            [
             0.3,
             "#f1b6da"
            ],
            [
             0.4,
             "#fde0ef"
            ],
            [
             0.5,
             "#f7f7f7"
            ],
            [
             0.6,
             "#e6f5d0"
            ],
            [
             0.7,
             "#b8e186"
            ],
            [
             0.8,
             "#7fbc41"
            ],
            [
             0.9,
             "#4d9221"
            ],
            [
             1,
             "#276419"
            ]
           ],
           "sequential": [
            [
             0,
             "#0d0887"
            ],
            [
             0.1111111111111111,
             "#46039f"
            ],
            [
             0.2222222222222222,
             "#7201a8"
            ],
            [
             0.3333333333333333,
             "#9c179e"
            ],
            [
             0.4444444444444444,
             "#bd3786"
            ],
            [
             0.5555555555555556,
             "#d8576b"
            ],
            [
             0.6666666666666666,
             "#ed7953"
            ],
            [
             0.7777777777777778,
             "#fb9f3a"
            ],
            [
             0.8888888888888888,
             "#fdca26"
            ],
            [
             1,
             "#f0f921"
            ]
           ],
           "sequentialminus": [
            [
             0,
             "#0d0887"
            ],
            [
             0.1111111111111111,
             "#46039f"
            ],
            [
             0.2222222222222222,
             "#7201a8"
            ],
            [
             0.3333333333333333,
             "#9c179e"
            ],
            [
             0.4444444444444444,
             "#bd3786"
            ],
            [
             0.5555555555555556,
             "#d8576b"
            ],
            [
             0.6666666666666666,
             "#ed7953"
            ],
            [
             0.7777777777777778,
             "#fb9f3a"
            ],
            [
             0.8888888888888888,
             "#fdca26"
            ],
            [
             1,
             "#f0f921"
            ]
           ]
          },
          "colorway": [
           "#636efa",
           "#EF553B",
           "#00cc96",
           "#ab63fa",
           "#FFA15A",
           "#19d3f3",
           "#FF6692",
           "#B6E880",
           "#FF97FF",
           "#FECB52"
          ],
          "font": {
           "color": "#f2f5fa"
          },
          "geo": {
           "bgcolor": "rgb(17,17,17)",
           "lakecolor": "rgb(17,17,17)",
           "landcolor": "rgb(17,17,17)",
           "showlakes": true,
           "showland": true,
           "subunitcolor": "#506784"
          },
          "hoverlabel": {
           "align": "left"
          },
          "hovermode": "closest",
          "mapbox": {
           "style": "dark"
          },
          "paper_bgcolor": "rgb(17,17,17)",
          "plot_bgcolor": "rgb(17,17,17)",
          "polar": {
           "angularaxis": {
            "gridcolor": "#506784",
            "linecolor": "#506784",
            "ticks": ""
           },
           "bgcolor": "rgb(17,17,17)",
           "radialaxis": {
            "gridcolor": "#506784",
            "linecolor": "#506784",
            "ticks": ""
           }
          },
          "scene": {
           "xaxis": {
            "backgroundcolor": "rgb(17,17,17)",
            "gridcolor": "#506784",
            "gridwidth": 2,
            "linecolor": "#506784",
            "showbackground": true,
            "ticks": "",
            "zerolinecolor": "#C8D4E3"
           },
           "yaxis": {
            "backgroundcolor": "rgb(17,17,17)",
            "gridcolor": "#506784",
            "gridwidth": 2,
            "linecolor": "#506784",
            "showbackground": true,
            "ticks": "",
            "zerolinecolor": "#C8D4E3"
           },
           "zaxis": {
            "backgroundcolor": "rgb(17,17,17)",
            "gridcolor": "#506784",
            "gridwidth": 2,
            "linecolor": "#506784",
            "showbackground": true,
            "ticks": "",
            "zerolinecolor": "#C8D4E3"
           }
          },
          "shapedefaults": {
           "line": {
            "color": "#f2f5fa"
           }
          },
          "sliderdefaults": {
           "bgcolor": "#C8D4E3",
           "bordercolor": "rgb(17,17,17)",
           "borderwidth": 1,
           "tickwidth": 0
          },
          "ternary": {
           "aaxis": {
            "gridcolor": "#506784",
            "linecolor": "#506784",
            "ticks": ""
           },
           "baxis": {
            "gridcolor": "#506784",
            "linecolor": "#506784",
            "ticks": ""
           },
           "bgcolor": "rgb(17,17,17)",
           "caxis": {
            "gridcolor": "#506784",
            "linecolor": "#506784",
            "ticks": ""
           }
          },
          "title": {
           "x": 0.05
          },
          "updatemenudefaults": {
           "bgcolor": "#506784",
           "borderwidth": 0
          },
          "xaxis": {
           "automargin": true,
           "gridcolor": "#283442",
           "linecolor": "#506784",
           "ticks": "",
           "title": {
            "standoff": 15
           },
           "zerolinecolor": "#283442",
           "zerolinewidth": 2
          },
          "yaxis": {
           "automargin": true,
           "gridcolor": "#283442",
           "linecolor": "#506784",
           "ticks": "",
           "title": {
            "standoff": 15
           },
           "zerolinecolor": "#283442",
           "zerolinewidth": 2
          }
         }
        },
        "title": {
         "text": "Candlestick Chart with Trends and Patterns"
        },
        "xaxis": {
         "rangeslider": {
          "visible": false
         },
         "title": {
          "text": "Date"
         }
        },
        "yaxis": {
         "title": {
          "text": "Price"
         }
        }
       }
      },
      "text/html": [
       "<div>                            <div id=\"2bb00c56-da71-4249-bcc7-8b24a43a9147\" class=\"plotly-graph-div\" style=\"height:525px; width:100%;\"></div>            <script type=\"text/javascript\">                require([\"plotly\"], function(Plotly) {                    window.PLOTLYENV=window.PLOTLYENV || {};                                    if (document.getElementById(\"2bb00c56-da71-4249-bcc7-8b24a43a9147\")) {                    Plotly.newPlot(                        \"2bb00c56-da71-4249-bcc7-8b24a43a9147\",                        [{\"close\":[52.93000030517578,53.029998779296875,53.529998779296875,54.029998779296875,55.4900016784668,55.20000076293945,55.369998931884766,54.88999938964844,54.720001220703125,54.630001068115234,54.619998931884766,55.880001068115234,55.38999938964844,54.54999923706055,55.08000183105469,57.83000183105469,60.720001220703125,61.470001220703125,61.88999938964844],\"high\":[53.279998779296875,53.380001068115234,53.95000076293945,55.66999816894531,56.4900016784668,56.0,55.84000015258789,56.0,55.0,55.43000030517578,55.0,56.0,55.720001220703125,55.869998931884766,55.439998626708984,57.83000183105469,60.720001220703125,63.75,63.0],\"low\":[52.59000015258789,52.43000030517578,53.0,53.369998931884766,53.79999923706055,54.5,53.86000061035156,53.900001525878906,54.20000076293945,53.650001525878906,54.02000045776367,54.43000030517578,53.81999969482422,53.81999969482422,53.5,54.0,59.630001068115234,60.79999923706055,61.0],\"name\":\"Candlestick\",\"open\":[53.20000076293945,53.0,53.099998474121094,53.599998474121094,54.369998931884766,55.95000076293945,55.29999923706055,55.66999816894531,55.0,55.0,55.0,54.900001525878906,55.5,55.380001068115234,54.65999984741211,57.20000076293945,59.70000076293945,62.290000915527344,62.68000030517578],\"x\":[\"2024-07-01T00:00:00+05:30\",\"2024-07-02T00:00:00+05:30\",\"2024-07-03T00:00:00+05:30\",\"2024-07-04T00:00:00+05:30\",\"2024-07-05T00:00:00+05:30\",\"2024-07-08T00:00:00+05:30\",\"2024-07-09T00:00:00+05:30\",\"2024-07-10T00:00:00+05:30\",\"2024-07-11T00:00:00+05:30\",\"2024-07-12T00:00:00+05:30\",\"2024-07-15T00:00:00+05:30\",\"2024-07-16T00:00:00+05:30\",\"2024-07-18T00:00:00+05:30\",\"2024-07-19T00:00:00+05:30\",\"2024-07-22T00:00:00+05:30\",\"2024-07-23T00:00:00+05:30\",\"2024-07-24T00:00:00+05:30\",\"2024-07-25T00:00:00+05:30\",\"2024-07-26T00:00:00+05:30\"],\"type\":\"candlestick\"},{\"marker\":{\"color\":\"green\",\"size\":10,\"symbol\":\"triangle-up\"},\"mode\":\"markers\",\"name\":\"Higher High\",\"x\":[\"2024-07-03T00:00:00+05:30\"],\"y\":[53.95000076293945],\"type\":\"scatter\"},{\"marker\":{\"color\":\"green\",\"size\":10,\"symbol\":\"triangle-up\"},\"mode\":\"markers\",\"name\":\"Higher High\",\"x\":[\"2024-07-04T00:00:00+05:30\"],\"y\":[55.66999816894531],\"type\":\"scatter\"},{\"marker\":{\"color\":\"green\",\"size\":10,\"symbol\":\"triangle-up\"},\"mode\":\"markers\",\"name\":\"Higher High\",\"x\":[\"2024-07-05T00:00:00+05:30\"],\"y\":[56.4900016784668],\"type\":\"scatter\"},{\"marker\":{\"color\":\"red\",\"size\":10,\"symbol\":\"triangle-down\"},\"mode\":\"markers\",\"name\":\"Lower Low\",\"x\":[\"2024-07-09T00:00:00+05:30\"],\"y\":[53.86000061035156],\"type\":\"scatter\"},{\"marker\":{\"color\":\"green\",\"size\":10,\"symbol\":\"triangle-up\"},\"mode\":\"markers\",\"name\":\"Higher High\",\"x\":[\"2024-07-10T00:00:00+05:30\"],\"y\":[56.0],\"type\":\"scatter\"},{\"marker\":{\"color\":\"green\",\"size\":10,\"symbol\":\"triangle-up\"},\"mode\":\"markers\",\"name\":\"Higher High\",\"x\":[\"2024-07-16T00:00:00+05:30\"],\"y\":[56.0],\"type\":\"scatter\"},{\"marker\":{\"color\":\"red\",\"size\":10,\"symbol\":\"triangle-down\"},\"mode\":\"markers\",\"name\":\"Lower Low\",\"x\":[\"2024-07-18T00:00:00+05:30\"],\"y\":[53.81999969482422],\"type\":\"scatter\"},{\"marker\":{\"color\":\"red\",\"size\":10,\"symbol\":\"triangle-down\"},\"mode\":\"markers\",\"name\":\"Lower Low\",\"x\":[\"2024-07-22T00:00:00+05:30\"],\"y\":[53.5],\"type\":\"scatter\"},{\"marker\":{\"color\":\"green\",\"size\":10,\"symbol\":\"triangle-up\"},\"mode\":\"markers\",\"name\":\"Higher High\",\"x\":[\"2024-07-23T00:00:00+05:30\"],\"y\":[57.83000183105469],\"type\":\"scatter\"},{\"marker\":{\"color\":\"green\",\"size\":10,\"symbol\":\"triangle-up\"},\"mode\":\"markers\",\"name\":\"Higher High\",\"x\":[\"2024-07-24T00:00:00+05:30\"],\"y\":[60.720001220703125],\"type\":\"scatter\"},{\"marker\":{\"color\":\"green\",\"size\":10,\"symbol\":\"triangle-up\"},\"mode\":\"markers\",\"name\":\"Higher High\",\"x\":[\"2024-07-25T00:00:00+05:30\"],\"y\":[63.75],\"type\":\"scatter\"}],                        {\"template\":{\"data\":{\"barpolar\":[{\"marker\":{\"line\":{\"color\":\"rgb(17,17,17)\",\"width\":0.5},\"pattern\":{\"fillmode\":\"overlay\",\"size\":10,\"solidity\":0.2}},\"type\":\"barpolar\"}],\"bar\":[{\"error_x\":{\"color\":\"#f2f5fa\"},\"error_y\":{\"color\":\"#f2f5fa\"},\"marker\":{\"line\":{\"color\":\"rgb(17,17,17)\",\"width\":0.5},\"pattern\":{\"fillmode\":\"overlay\",\"size\":10,\"solidity\":0.2}},\"type\":\"bar\"}],\"carpet\":[{\"aaxis\":{\"endlinecolor\":\"#A2B1C6\",\"gridcolor\":\"#506784\",\"linecolor\":\"#506784\",\"minorgridcolor\":\"#506784\",\"startlinecolor\":\"#A2B1C6\"},\"baxis\":{\"endlinecolor\":\"#A2B1C6\",\"gridcolor\":\"#506784\",\"linecolor\":\"#506784\",\"minorgridcolor\":\"#506784\",\"startlinecolor\":\"#A2B1C6\"},\"type\":\"carpet\"}],\"choropleth\":[{\"colorbar\":{\"outlinewidth\":0,\"ticks\":\"\"},\"type\":\"choropleth\"}],\"contourcarpet\":[{\"colorbar\":{\"outlinewidth\":0,\"ticks\":\"\"},\"type\":\"contourcarpet\"}],\"contour\":[{\"colorbar\":{\"outlinewidth\":0,\"ticks\":\"\"},\"colorscale\":[[0.0,\"#0d0887\"],[0.1111111111111111,\"#46039f\"],[0.2222222222222222,\"#7201a8\"],[0.3333333333333333,\"#9c179e\"],[0.4444444444444444,\"#bd3786\"],[0.5555555555555556,\"#d8576b\"],[0.6666666666666666,\"#ed7953\"],[0.7777777777777778,\"#fb9f3a\"],[0.8888888888888888,\"#fdca26\"],[1.0,\"#f0f921\"]],\"type\":\"contour\"}],\"heatmapgl\":[{\"colorbar\":{\"outlinewidth\":0,\"ticks\":\"\"},\"colorscale\":[[0.0,\"#0d0887\"],[0.1111111111111111,\"#46039f\"],[0.2222222222222222,\"#7201a8\"],[0.3333333333333333,\"#9c179e\"],[0.4444444444444444,\"#bd3786\"],[0.5555555555555556,\"#d8576b\"],[0.6666666666666666,\"#ed7953\"],[0.7777777777777778,\"#fb9f3a\"],[0.8888888888888888,\"#fdca26\"],[1.0,\"#f0f921\"]],\"type\":\"heatmapgl\"}],\"heatmap\":[{\"colorbar\":{\"outlinewidth\":0,\"ticks\":\"\"},\"colorscale\":[[0.0,\"#0d0887\"],[0.1111111111111111,\"#46039f\"],[0.2222222222222222,\"#7201a8\"],[0.3333333333333333,\"#9c179e\"],[0.4444444444444444,\"#bd3786\"],[0.5555555555555556,\"#d8576b\"],[0.6666666666666666,\"#ed7953\"],[0.7777777777777778,\"#fb9f3a\"],[0.8888888888888888,\"#fdca26\"],[1.0,\"#f0f921\"]],\"type\":\"heatmap\"}],\"histogram2dcontour\":[{\"colorbar\":{\"outlinewidth\":0,\"ticks\":\"\"},\"colorscale\":[[0.0,\"#0d0887\"],[0.1111111111111111,\"#46039f\"],[0.2222222222222222,\"#7201a8\"],[0.3333333333333333,\"#9c179e\"],[0.4444444444444444,\"#bd3786\"],[0.5555555555555556,\"#d8576b\"],[0.6666666666666666,\"#ed7953\"],[0.7777777777777778,\"#fb9f3a\"],[0.8888888888888888,\"#fdca26\"],[1.0,\"#f0f921\"]],\"type\":\"histogram2dcontour\"}],\"histogram2d\":[{\"colorbar\":{\"outlinewidth\":0,\"ticks\":\"\"},\"colorscale\":[[0.0,\"#0d0887\"],[0.1111111111111111,\"#46039f\"],[0.2222222222222222,\"#7201a8\"],[0.3333333333333333,\"#9c179e\"],[0.4444444444444444,\"#bd3786\"],[0.5555555555555556,\"#d8576b\"],[0.6666666666666666,\"#ed7953\"],[0.7777777777777778,\"#fb9f3a\"],[0.8888888888888888,\"#fdca26\"],[1.0,\"#f0f921\"]],\"type\":\"histogram2d\"}],\"histogram\":[{\"marker\":{\"pattern\":{\"fillmode\":\"overlay\",\"size\":10,\"solidity\":0.2}},\"type\":\"histogram\"}],\"mesh3d\":[{\"colorbar\":{\"outlinewidth\":0,\"ticks\":\"\"},\"type\":\"mesh3d\"}],\"parcoords\":[{\"line\":{\"colorbar\":{\"outlinewidth\":0,\"ticks\":\"\"}},\"type\":\"parcoords\"}],\"pie\":[{\"automargin\":true,\"type\":\"pie\"}],\"scatter3d\":[{\"line\":{\"colorbar\":{\"outlinewidth\":0,\"ticks\":\"\"}},\"marker\":{\"colorbar\":{\"outlinewidth\":0,\"ticks\":\"\"}},\"type\":\"scatter3d\"}],\"scattercarpet\":[{\"marker\":{\"colorbar\":{\"outlinewidth\":0,\"ticks\":\"\"}},\"type\":\"scattercarpet\"}],\"scattergeo\":[{\"marker\":{\"colorbar\":{\"outlinewidth\":0,\"ticks\":\"\"}},\"type\":\"scattergeo\"}],\"scattergl\":[{\"marker\":{\"line\":{\"color\":\"#283442\"}},\"type\":\"scattergl\"}],\"scattermapbox\":[{\"marker\":{\"colorbar\":{\"outlinewidth\":0,\"ticks\":\"\"}},\"type\":\"scattermapbox\"}],\"scatterpolargl\":[{\"marker\":{\"colorbar\":{\"outlinewidth\":0,\"ticks\":\"\"}},\"type\":\"scatterpolargl\"}],\"scatterpolar\":[{\"marker\":{\"colorbar\":{\"outlinewidth\":0,\"ticks\":\"\"}},\"type\":\"scatterpolar\"}],\"scatter\":[{\"marker\":{\"line\":{\"color\":\"#283442\"}},\"type\":\"scatter\"}],\"scatterternary\":[{\"marker\":{\"colorbar\":{\"outlinewidth\":0,\"ticks\":\"\"}},\"type\":\"scatterternary\"}],\"surface\":[{\"colorbar\":{\"outlinewidth\":0,\"ticks\":\"\"},\"colorscale\":[[0.0,\"#0d0887\"],[0.1111111111111111,\"#46039f\"],[0.2222222222222222,\"#7201a8\"],[0.3333333333333333,\"#9c179e\"],[0.4444444444444444,\"#bd3786\"],[0.5555555555555556,\"#d8576b\"],[0.6666666666666666,\"#ed7953\"],[0.7777777777777778,\"#fb9f3a\"],[0.8888888888888888,\"#fdca26\"],[1.0,\"#f0f921\"]],\"type\":\"surface\"}],\"table\":[{\"cells\":{\"fill\":{\"color\":\"#506784\"},\"line\":{\"color\":\"rgb(17,17,17)\"}},\"header\":{\"fill\":{\"color\":\"#2a3f5f\"},\"line\":{\"color\":\"rgb(17,17,17)\"}},\"type\":\"table\"}]},\"layout\":{\"annotationdefaults\":{\"arrowcolor\":\"#f2f5fa\",\"arrowhead\":0,\"arrowwidth\":1},\"autotypenumbers\":\"strict\",\"coloraxis\":{\"colorbar\":{\"outlinewidth\":0,\"ticks\":\"\"}},\"colorscale\":{\"diverging\":[[0,\"#8e0152\"],[0.1,\"#c51b7d\"],[0.2,\"#de77ae\"],[0.3,\"#f1b6da\"],[0.4,\"#fde0ef\"],[0.5,\"#f7f7f7\"],[0.6,\"#e6f5d0\"],[0.7,\"#b8e186\"],[0.8,\"#7fbc41\"],[0.9,\"#4d9221\"],[1,\"#276419\"]],\"sequential\":[[0.0,\"#0d0887\"],[0.1111111111111111,\"#46039f\"],[0.2222222222222222,\"#7201a8\"],[0.3333333333333333,\"#9c179e\"],[0.4444444444444444,\"#bd3786\"],[0.5555555555555556,\"#d8576b\"],[0.6666666666666666,\"#ed7953\"],[0.7777777777777778,\"#fb9f3a\"],[0.8888888888888888,\"#fdca26\"],[1.0,\"#f0f921\"]],\"sequentialminus\":[[0.0,\"#0d0887\"],[0.1111111111111111,\"#46039f\"],[0.2222222222222222,\"#7201a8\"],[0.3333333333333333,\"#9c179e\"],[0.4444444444444444,\"#bd3786\"],[0.5555555555555556,\"#d8576b\"],[0.6666666666666666,\"#ed7953\"],[0.7777777777777778,\"#fb9f3a\"],[0.8888888888888888,\"#fdca26\"],[1.0,\"#f0f921\"]]},\"colorway\":[\"#636efa\",\"#EF553B\",\"#00cc96\",\"#ab63fa\",\"#FFA15A\",\"#19d3f3\",\"#FF6692\",\"#B6E880\",\"#FF97FF\",\"#FECB52\"],\"font\":{\"color\":\"#f2f5fa\"},\"geo\":{\"bgcolor\":\"rgb(17,17,17)\",\"lakecolor\":\"rgb(17,17,17)\",\"landcolor\":\"rgb(17,17,17)\",\"showlakes\":true,\"showland\":true,\"subunitcolor\":\"#506784\"},\"hoverlabel\":{\"align\":\"left\"},\"hovermode\":\"closest\",\"mapbox\":{\"style\":\"dark\"},\"paper_bgcolor\":\"rgb(17,17,17)\",\"plot_bgcolor\":\"rgb(17,17,17)\",\"polar\":{\"angularaxis\":{\"gridcolor\":\"#506784\",\"linecolor\":\"#506784\",\"ticks\":\"\"},\"bgcolor\":\"rgb(17,17,17)\",\"radialaxis\":{\"gridcolor\":\"#506784\",\"linecolor\":\"#506784\",\"ticks\":\"\"}},\"scene\":{\"xaxis\":{\"backgroundcolor\":\"rgb(17,17,17)\",\"gridcolor\":\"#506784\",\"gridwidth\":2,\"linecolor\":\"#506784\",\"showbackground\":true,\"ticks\":\"\",\"zerolinecolor\":\"#C8D4E3\"},\"yaxis\":{\"backgroundcolor\":\"rgb(17,17,17)\",\"gridcolor\":\"#506784\",\"gridwidth\":2,\"linecolor\":\"#506784\",\"showbackground\":true,\"ticks\":\"\",\"zerolinecolor\":\"#C8D4E3\"},\"zaxis\":{\"backgroundcolor\":\"rgb(17,17,17)\",\"gridcolor\":\"#506784\",\"gridwidth\":2,\"linecolor\":\"#506784\",\"showbackground\":true,\"ticks\":\"\",\"zerolinecolor\":\"#C8D4E3\"}},\"shapedefaults\":{\"line\":{\"color\":\"#f2f5fa\"}},\"sliderdefaults\":{\"bgcolor\":\"#C8D4E3\",\"bordercolor\":\"rgb(17,17,17)\",\"borderwidth\":1,\"tickwidth\":0},\"ternary\":{\"aaxis\":{\"gridcolor\":\"#506784\",\"linecolor\":\"#506784\",\"ticks\":\"\"},\"baxis\":{\"gridcolor\":\"#506784\",\"linecolor\":\"#506784\",\"ticks\":\"\"},\"bgcolor\":\"rgb(17,17,17)\",\"caxis\":{\"gridcolor\":\"#506784\",\"linecolor\":\"#506784\",\"ticks\":\"\"}},\"title\":{\"x\":0.05},\"updatemenudefaults\":{\"bgcolor\":\"#506784\",\"borderwidth\":0},\"xaxis\":{\"automargin\":true,\"gridcolor\":\"#283442\",\"linecolor\":\"#506784\",\"ticks\":\"\",\"title\":{\"standoff\":15},\"zerolinecolor\":\"#283442\",\"zerolinewidth\":2},\"yaxis\":{\"automargin\":true,\"gridcolor\":\"#283442\",\"linecolor\":\"#506784\",\"ticks\":\"\",\"title\":{\"standoff\":15},\"zerolinecolor\":\"#283442\",\"zerolinewidth\":2}}},\"xaxis\":{\"rangeslider\":{\"visible\":false},\"title\":{\"text\":\"Date\"}},\"title\":{\"text\":\"Candlestick Chart with Trends and Patterns\"},\"yaxis\":{\"title\":{\"text\":\"Price\"}}},                        {\"responsive\": true}                    ).then(function(){\n",
       "                            \n",
       "var gd = document.getElementById('2bb00c56-da71-4249-bcc7-8b24a43a9147');\n",
       "var x = new MutationObserver(function (mutations, observer) {{\n",
       "        var display = window.getComputedStyle(gd).display;\n",
       "        if (!display || display === 'none') {{\n",
       "            console.log([gd, 'removed!']);\n",
       "            Plotly.purge(gd);\n",
       "            observer.disconnect();\n",
       "        }}\n",
       "}});\n",
       "\n",
       "// Listen for the removal of the full notebook cells\n",
       "var notebookContainer = gd.closest('#notebook-container');\n",
       "if (notebookContainer) {{\n",
       "    x.observe(notebookContainer, {childList: true});\n",
       "}}\n",
       "\n",
       "// Listen for the clearing of the current output cell\n",
       "var outputEl = gd.closest('.output');\n",
       "if (outputEl) {{\n",
       "    x.observe(outputEl, {childList: true});\n",
       "}}\n",
       "\n",
       "                        })                };                });            </script>        </div>"
      ]
     },
     "metadata": {},
     "output_type": "display_data"
    }
   ],
   "source": [
    "import pandas as pd\n",
    "import plotly.graph_objects as go\n",
    "\n",
    "#One Stock\n",
    "df = stock_data_df[(stock_data_df.Ticker=='SUZLON') & (stock_data_df.Date>='2024-07-01 00:00:00+05:30')].reset_index(drop=True)\n",
    "\n",
    "# Ensure 'Date' column is in datetime format\n",
    "df['Date'] = pd.to_datetime(df['Date'])\n",
    "\n",
    "# Sort by date\n",
    "df = df.sort_values('Date')\n",
    "\n",
    "# Create the candlestick chart\n",
    "fig = go.Figure(data=[go.Candlestick(\n",
    "    x=df['Date'],\n",
    "    open=df['Open'],\n",
    "    high=df['High'],\n",
    "    low=df['Low'],\n",
    "    close=df['Close'],\n",
    "    name='Candlestick'\n",
    ")])\n",
    "\n",
    "# Add traces for HH, LH, HL, LL (dummy example for illustration)\n",
    "# Implement your own logic to detect these patterns\n",
    "# Example for HH and LL (Replace with actual pattern logic)\n",
    "for i in range(1, len(df)):\n",
    "    if df['High'].iloc[i] > df['High'].iloc[i-1] and df['Low'].iloc[i] > df['Low'].iloc[i-1]:\n",
    "        fig.add_trace(go.Scatter(\n",
    "            x=[df['Date'].iloc[i]],\n",
    "            y=[df['High'].iloc[i]],\n",
    "            mode='markers',\n",
    "            marker=dict(color='green', symbol='triangle-up', size=10),\n",
    "            name='Higher High'\n",
    "        ))\n",
    "    elif df['High'].iloc[i] < df['High'].iloc[i-1] and df['Low'].iloc[i] < df['Low'].iloc[i-1]:\n",
    "        fig.add_trace(go.Scatter(\n",
    "            x=[df['Date'].iloc[i]],\n",
    "            y=[df['Low'].iloc[i]],\n",
    "            mode='markers',\n",
    "            marker=dict(color='red', symbol='triangle-down', size=10),\n",
    "            name='Lower Low'\n",
    "        ))\n",
    "\n",
    "# Add other traces and annotations as needed for LH, HL\n",
    "\n",
    "# Update layout for better visualization\n",
    "fig.update_layout(\n",
    "    title='Candlestick Chart with Trends and Patterns',\n",
    "    xaxis_title='Date',\n",
    "    yaxis_title='Price',\n",
    "    xaxis_rangeslider_visible=False,\n",
    "    template='plotly_dark'\n",
    ")\n",
    "\n",
    "# Show the figure\n",
    "fig.show()"
   ]
  },
  {
   "cell_type": "code",
   "execution_count": null,
   "id": "2340724c",
   "metadata": {},
   "outputs": [],
   "source": []
  }
 ],
 "metadata": {
  "kernelspec": {
   "display_name": "Python 3 (ipykernel)",
   "language": "python",
   "name": "python3"
  },
  "language_info": {
   "codemirror_mode": {
    "name": "ipython",
    "version": 3
   },
   "file_extension": ".py",
   "mimetype": "text/x-python",
   "name": "python",
   "nbconvert_exporter": "python",
   "pygments_lexer": "ipython3",
   "version": "3.11.4"
  }
 },
 "nbformat": 4,
 "nbformat_minor": 5
}
